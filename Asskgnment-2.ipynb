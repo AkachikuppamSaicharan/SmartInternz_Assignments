{
 "cells": [
  {
   "cell_type": "markdown",
   "source": [
    "20BDS0354\n",
    "A SAI CHARAN\n",
    "SmartBridge Externship-Artifical Intelligence Course\n",
    "Course Instructor: HariPrabhu\n",
    "Vellore Institute of Technology,Vellore Campus\n",
    "-----------------------------------------\n",
    "Assignment-2:\n",
    "Build an ANN model for Drug classification.\n",
    "This project aims to analyze the relationship between various medical parameters and drug effectiveness. The dataset consists of patient information,\n",
    "including age, sex, blood pressure levels (BP), cholesterol levels, sodium-to-potassium ratio (Na_to_K), drug type, and corresponding labels. The goal is to\n",
    "develop a model that can accurately predict the class or category of a given drug based on its features.\n",
    "--------------------------------\n",
    "Dataset Link: https://www.kaggle.com/datasets/prathamtripathi/drug-classification\n",
    "Task 1: Read the dataset and do data pre-processing\n",
    "Task 2: Build the ANN model with (input layer, min 3 hidden layers & output layer)\n",
    "Task 3: Test the model with random data\n",
    "---------------------------------------------"
   ],
   "metadata": {
    "collapsed": false
   }
  },
  {
   "cell_type": "code",
   "execution_count": 266,
   "outputs": [],
   "source": [
    "import numpy as np\n",
    "import pandas as pd\n",
    "import matplotlib.pyplot as plt\n",
    "import seaborn as sns"
   ],
   "metadata": {
    "collapsed": false,
    "ExecuteTime": {
     "end_time": "2023-05-28T15:15:40.569205400Z",
     "start_time": "2023-05-28T15:15:40.537846500Z"
    }
   }
  },
  {
   "cell_type": "code",
   "execution_count": 267,
   "outputs": [],
   "source": [
    "Drug=pd.read_csv('drug200.csv')"
   ],
   "metadata": {
    "collapsed": false,
    "ExecuteTime": {
     "end_time": "2023-05-28T15:15:40.569205400Z",
     "start_time": "2023-05-28T15:15:40.537846500Z"
    }
   }
  },
  {
   "cell_type": "code",
   "execution_count": 268,
   "outputs": [
    {
     "name": "stdout",
     "output_type": "stream",
     "text": [
      "No of Output Types/Variables: 5\n"
     ]
    }
   ],
   "source": [
    "Unq=Drug['Drug'].unique()\n",
    "NOutput=len(Unq)\n",
    "print(\"No of Output Types/Variables:\",NOutput)"
   ],
   "metadata": {
    "collapsed": false,
    "ExecuteTime": {
     "end_time": "2023-05-28T15:15:40.663303700Z",
     "start_time": "2023-05-28T15:15:40.553488300Z"
    }
   }
  },
  {
   "cell_type": "code",
   "execution_count": 269,
   "outputs": [
    {
     "data": {
      "text/plain": "   Age Sex      BP Cholesterol  Na_to_K   Drug\n0   23   F    HIGH        HIGH   25.355  DrugY\n1   47   M     LOW        HIGH   13.093  drugC\n2   47   M     LOW        HIGH   10.114  drugC\n3   28   F  NORMAL        HIGH    7.798  drugX\n4   61   F     LOW        HIGH   18.043  DrugY",
      "text/html": "<div>\n<style scoped>\n    .dataframe tbody tr th:only-of-type {\n        vertical-align: middle;\n    }\n\n    .dataframe tbody tr th {\n        vertical-align: top;\n    }\n\n    .dataframe thead th {\n        text-align: right;\n    }\n</style>\n<table border=\"1\" class=\"dataframe\">\n  <thead>\n    <tr style=\"text-align: right;\">\n      <th></th>\n      <th>Age</th>\n      <th>Sex</th>\n      <th>BP</th>\n      <th>Cholesterol</th>\n      <th>Na_to_K</th>\n      <th>Drug</th>\n    </tr>\n  </thead>\n  <tbody>\n    <tr>\n      <th>0</th>\n      <td>23</td>\n      <td>F</td>\n      <td>HIGH</td>\n      <td>HIGH</td>\n      <td>25.355</td>\n      <td>DrugY</td>\n    </tr>\n    <tr>\n      <th>1</th>\n      <td>47</td>\n      <td>M</td>\n      <td>LOW</td>\n      <td>HIGH</td>\n      <td>13.093</td>\n      <td>drugC</td>\n    </tr>\n    <tr>\n      <th>2</th>\n      <td>47</td>\n      <td>M</td>\n      <td>LOW</td>\n      <td>HIGH</td>\n      <td>10.114</td>\n      <td>drugC</td>\n    </tr>\n    <tr>\n      <th>3</th>\n      <td>28</td>\n      <td>F</td>\n      <td>NORMAL</td>\n      <td>HIGH</td>\n      <td>7.798</td>\n      <td>drugX</td>\n    </tr>\n    <tr>\n      <th>4</th>\n      <td>61</td>\n      <td>F</td>\n      <td>LOW</td>\n      <td>HIGH</td>\n      <td>18.043</td>\n      <td>DrugY</td>\n    </tr>\n  </tbody>\n</table>\n</div>"
     },
     "execution_count": 269,
     "metadata": {},
     "output_type": "execute_result"
    }
   ],
   "source": [
    "Drug.head()"
   ],
   "metadata": {
    "collapsed": false,
    "ExecuteTime": {
     "end_time": "2023-05-28T15:15:40.663303700Z",
     "start_time": "2023-05-28T15:15:40.564195700Z"
    }
   }
  },
  {
   "cell_type": "code",
   "execution_count": 270,
   "outputs": [
    {
     "data": {
      "text/plain": "Age            0\nSex            0\nBP             0\nCholesterol    0\nNa_to_K        0\nDrug           0\ndtype: int64"
     },
     "execution_count": 270,
     "metadata": {},
     "output_type": "execute_result"
    }
   ],
   "source": [
    "Drug.isnull().sum()"
   ],
   "metadata": {
    "collapsed": false,
    "ExecuteTime": {
     "end_time": "2023-05-28T15:15:40.663303700Z",
     "start_time": "2023-05-28T15:15:40.590744100Z"
    }
   }
  },
  {
   "cell_type": "code",
   "execution_count": 271,
   "outputs": [
    {
     "data": {
      "text/plain": "              Age     Na_to_K\ncount  200.000000  200.000000\nmean    44.315000   16.084485\nstd     16.544315    7.223956\nmin     15.000000    6.269000\n25%     31.000000   10.445500\n50%     45.000000   13.936500\n75%     58.000000   19.380000\nmax     74.000000   38.247000",
      "text/html": "<div>\n<style scoped>\n    .dataframe tbody tr th:only-of-type {\n        vertical-align: middle;\n    }\n\n    .dataframe tbody tr th {\n        vertical-align: top;\n    }\n\n    .dataframe thead th {\n        text-align: right;\n    }\n</style>\n<table border=\"1\" class=\"dataframe\">\n  <thead>\n    <tr style=\"text-align: right;\">\n      <th></th>\n      <th>Age</th>\n      <th>Na_to_K</th>\n    </tr>\n  </thead>\n  <tbody>\n    <tr>\n      <th>count</th>\n      <td>200.000000</td>\n      <td>200.000000</td>\n    </tr>\n    <tr>\n      <th>mean</th>\n      <td>44.315000</td>\n      <td>16.084485</td>\n    </tr>\n    <tr>\n      <th>std</th>\n      <td>16.544315</td>\n      <td>7.223956</td>\n    </tr>\n    <tr>\n      <th>min</th>\n      <td>15.000000</td>\n      <td>6.269000</td>\n    </tr>\n    <tr>\n      <th>25%</th>\n      <td>31.000000</td>\n      <td>10.445500</td>\n    </tr>\n    <tr>\n      <th>50%</th>\n      <td>45.000000</td>\n      <td>13.936500</td>\n    </tr>\n    <tr>\n      <th>75%</th>\n      <td>58.000000</td>\n      <td>19.380000</td>\n    </tr>\n    <tr>\n      <th>max</th>\n      <td>74.000000</td>\n      <td>38.247000</td>\n    </tr>\n  </tbody>\n</table>\n</div>"
     },
     "execution_count": 271,
     "metadata": {},
     "output_type": "execute_result"
    }
   ],
   "source": [
    "Drug.describe()"
   ],
   "metadata": {
    "collapsed": false,
    "ExecuteTime": {
     "end_time": "2023-05-28T15:15:40.663303700Z",
     "start_time": "2023-05-28T15:15:40.600794500Z"
    }
   }
  },
  {
   "cell_type": "code",
   "execution_count": 272,
   "outputs": [
    {
     "name": "stdout",
     "output_type": "stream",
     "text": [
      "<class 'pandas.core.frame.DataFrame'>\n",
      "RangeIndex: 200 entries, 0 to 199\n",
      "Data columns (total 6 columns):\n",
      " #   Column       Non-Null Count  Dtype  \n",
      "---  ------       --------------  -----  \n",
      " 0   Age          200 non-null    int64  \n",
      " 1   Sex          200 non-null    object \n",
      " 2   BP           200 non-null    object \n",
      " 3   Cholesterol  200 non-null    object \n",
      " 4   Na_to_K      200 non-null    float64\n",
      " 5   Drug         200 non-null    object \n",
      "dtypes: float64(1), int64(1), object(4)\n",
      "memory usage: 9.5+ KB\n"
     ]
    }
   ],
   "source": [
    "Drug.info()"
   ],
   "metadata": {
    "collapsed": false,
    "ExecuteTime": {
     "end_time": "2023-05-28T15:15:40.663303700Z",
     "start_time": "2023-05-28T15:15:40.616078Z"
    }
   }
  },
  {
   "cell_type": "code",
   "execution_count": 273,
   "outputs": [
    {
     "data": {
      "text/plain": "<Axes: >"
     },
     "execution_count": 273,
     "metadata": {},
     "output_type": "execute_result"
    },
    {
     "data": {
      "text/plain": "<Figure size 640x480 with 1 Axes>",
      "image/png": "[encoded data removed]"
     },
     "metadata": {},
     "output_type": "display_data"
    }
   ],
   "source": [
    "sns.boxplot(Drug)"
   ],
   "metadata": {
    "collapsed": false,
    "ExecuteTime": {
     "end_time": "2023-05-28T15:15:40.830197800Z",
     "start_time": "2023-05-28T15:15:40.626993300Z"
    }
   }
  },
  {
   "cell_type": "code",
   "execution_count": 274,
   "outputs": [],
   "source": [
    "#Calculate IQR\n",
    "Q1=Drug['Na_to_K'].quantile(0.25)\n",
    "Q3=Drug['Na_to_K'].quantile(0.75)\n",
    "IQR=Q3-Q1\n",
    "UpperLimit=Q3+1.5*IQR"
   ],
   "metadata": {
    "collapsed": false,
    "ExecuteTime": {
     "end_time": "2023-05-28T15:15:40.830197800Z",
     "start_time": "2023-05-28T15:15:40.738834800Z"
    }
   }
  },
  {
   "cell_type": "code",
   "execution_count": 275,
   "outputs": [
    {
     "name": "stdout",
     "output_type": "stream",
     "text": [
      "UpperLimit is  32.78175\n",
      "\n",
      " Median is  13.9365\n",
      "\n",
      " Average is  16.084485\n"
     ]
    }
   ],
   "source": [
    "print(\"UpperLimit is \",UpperLimit)\n",
    "print(\"\\n Median is \",Drug['Na_to_K'].median())\n",
    "print(\"\\n Average is \",Drug['Na_to_K'].mean())"
   ],
   "metadata": {
    "collapsed": false,
    "ExecuteTime": {
     "end_time": "2023-05-28T15:15:40.877096500Z",
     "start_time": "2023-05-28T15:15:40.751124300Z"
    }
   }
  },
  {
   "cell_type": "code",
   "execution_count": 276,
   "outputs": [],
   "source": [
    "Drug['Na_to_K']=np.where(Drug['Na_to_K']>UpperLimit,Drug['Na_to_K'].median(),Drug['Na_to_K'])"
   ],
   "metadata": {
    "collapsed": false,
    "ExecuteTime": {
     "end_time": "2023-05-28T15:15:40.877096500Z",
     "start_time": "2023-05-28T15:15:40.760310900Z"
    }
   }
  },
  {
   "cell_type": "code",
   "execution_count": 277,
   "outputs": [
    {
     "data": {
      "text/plain": "<Axes: >"
     },
     "execution_count": 277,
     "metadata": {},
     "output_type": "execute_result"
    },
    {
     "data": {
      "text/plain": "<Figure size 640x480 with 1 Axes>",
      "image/png": "[encoded data removed]"
     },
     "metadata": {},
     "output_type": "display_data"
    }
   ],
   "source": [
    "sns.boxplot(Drug)"
   ],
   "metadata": {
    "collapsed": false,
    "ExecuteTime": {
     "end_time": "2023-05-28T15:15:41.101758700Z",
     "start_time": "2023-05-28T15:15:40.770890500Z"
    }
   }
  },
  {
   "cell_type": "code",
   "execution_count": 278,
   "outputs": [
    {
     "data": {
      "text/plain": "(200, 6)"
     },
     "execution_count": 278,
     "metadata": {},
     "output_type": "execute_result"
    }
   ],
   "source": [
    "Drug.shape"
   ],
   "metadata": {
    "collapsed": false,
    "ExecuteTime": {
     "end_time": "2023-05-28T15:15:41.101758700Z",
     "start_time": "2023-05-28T15:15:40.899244700Z"
    }
   }
  },
  {
   "cell_type": "code",
   "execution_count": 279,
   "outputs": [],
   "source": [
    "from sklearn.preprocessing import LabelEncoder\n",
    "from sklearn.model_selection import train_test_split"
   ],
   "metadata": {
    "collapsed": false,
    "ExecuteTime": {
     "end_time": "2023-05-28T15:15:41.101758700Z",
     "start_time": "2023-05-28T15:15:40.908280Z"
    }
   }
  },
  {
   "cell_type": "code",
   "execution_count": 280,
   "outputs": [
    {
     "name": "stdout",
     "output_type": "stream",
     "text": [
      "['F' 'M']\n"
     ]
    }
   ],
   "source": [
    "print(Drug['Sex'].unique())\n",
    "SexLab=LabelEncoder()\n",
    "SexLab.fit([\"M\",\"F\"])\n",
    "Drug['Sex']=SexLab.fit_transform(Drug['Sex'])"
   ],
   "metadata": {
    "collapsed": false,
    "ExecuteTime": {
     "end_time": "2023-05-28T15:15:41.101758700Z",
     "start_time": "2023-05-28T15:15:40.915497400Z"
    }
   }
  },
  {
   "cell_type": "code",
   "execution_count": 281,
   "outputs": [
    {
     "name": "stdout",
     "output_type": "stream",
     "text": [
      "['HIGH' 'LOW' 'NORMAL']\n"
     ]
    }
   ],
   "source": [
    "print(Drug['BP'].unique())\n",
    "BPLab=LabelEncoder()\n",
    "BPLab.fit([\"LOW\",\"NORMAL\",\"HIGH\"])\n",
    "Drug['BP']=BPLab.fit_transform(Drug['BP'])"
   ],
   "metadata": {
    "collapsed": false,
    "ExecuteTime": {
     "end_time": "2023-05-28T15:15:41.117834400Z",
     "start_time": "2023-05-28T15:15:40.930723400Z"
    }
   }
  },
  {
   "cell_type": "code",
   "execution_count": 282,
   "outputs": [
    {
     "name": "stdout",
     "output_type": "stream",
     "text": [
      "['HIGH' 'NORMAL']\n"
     ]
    }
   ],
   "source": [
    "print(Drug['Cholesterol'].unique())\n",
    "ChoLab=LabelEncoder()\n",
    "ChoLab.fit([\"NORMAL\",\"HIGH\"])\n",
    "Drug['Cholesterol']=ChoLab.fit_transform(Drug['Cholesterol'])"
   ],
   "metadata": {
    "collapsed": false,
    "ExecuteTime": {
     "end_time": "2023-05-28T15:15:41.117834400Z",
     "start_time": "2023-05-28T15:15:40.958779Z"
    }
   }
  },
  {
   "cell_type": "code",
   "execution_count": 283,
   "outputs": [
    {
     "name": "stdout",
     "output_type": "stream",
     "text": [
      "['DrugY' 'drugC' 'drugX' 'drugA' 'drugB']\n"
     ]
    }
   ],
   "source": [
    "print(Drug['Drug'].unique())\n",
    "DrugLab=LabelEncoder()\n",
    "DrugLab.fit(['DrugA' 'drugB' 'drugC' 'drugX' 'drugY'])\n",
    "Drug['Drug']=DrugLab.fit_transform(Drug['Drug'])"
   ],
   "metadata": {
    "collapsed": false,
    "ExecuteTime": {
     "end_time": "2023-05-28T15:15:41.117834400Z",
     "start_time": "2023-05-28T15:15:40.964345700Z"
    }
   }
  },
  {
   "cell_type": "code",
   "execution_count": 284,
   "outputs": [
    {
     "data": {
      "text/plain": "<Axes: >"
     },
     "execution_count": 284,
     "metadata": {},
     "output_type": "execute_result"
    },
    {
     "data": {
      "text/plain": "<Figure size 640x480 with 1 Axes>",
      "image/png": "[encoded data removed]"
     },
     "metadata": {},
     "output_type": "display_data"
    }
   ],
   "source": [
    "sns.barplot(Drug['Drug'])"
   ],
   "metadata": {
    "collapsed": false,
    "ExecuteTime": {
     "end_time": "2023-05-28T15:15:41.355097200Z",
     "start_time": "2023-05-28T15:15:40.981114600Z"
    }
   }
  },
  {
   "cell_type": "code",
   "execution_count": 285,
   "outputs": [],
   "source": [
    "Output=Drug['Drug']\n",
    "Drug.drop(['Drug'],axis=1,inplace=True)"
   ],
   "metadata": {
    "collapsed": false,
    "ExecuteTime": {
     "end_time": "2023-05-28T15:15:41.355097200Z",
     "start_time": "2023-05-28T15:15:41.174274100Z"
    }
   }
  },
  {
   "cell_type": "code",
   "execution_count": 286,
   "outputs": [
    {
     "data": {
      "text/plain": "     Age  Sex  BP  Cholesterol  Na_to_K\n0     23    0   0            0   25.355\n1     47    1   1            0   13.093\n2     47    1   1            0   10.114\n3     28    0   2            0    7.798\n4     61    0   1            0   18.043\n..   ...  ...  ..          ...      ...\n195   56    0   1            0   11.567\n196   16    1   1            0   12.006\n197   52    1   2            0    9.894\n198   23    1   2            1   14.020\n199   40    0   1            1   11.349\n\n[200 rows x 5 columns]",
      "text/html": "<div>\n<style scoped>\n    .dataframe tbody tr th:only-of-type {\n        vertical-align: middle;\n    }\n\n    .dataframe tbody tr th {\n        vertical-align: top;\n    }\n\n    .dataframe thead th {\n        text-align: right;\n    }\n</style>\n<table border=\"1\" class=\"dataframe\">\n  <thead>\n    <tr style=\"text-align: right;\">\n      <th></th>\n      <th>Age</th>\n      <th>Sex</th>\n      <th>BP</th>\n      <th>Cholesterol</th>\n      <th>Na_to_K</th>\n    </tr>\n  </thead>\n  <tbody>\n    <tr>\n      <th>0</th>\n      <td>23</td>\n      <td>0</td>\n      <td>0</td>\n      <td>0</td>\n      <td>25.355</td>\n    </tr>\n    <tr>\n      <th>1</th>\n      <td>47</td>\n      <td>1</td>\n      <td>1</td>\n      <td>0</td>\n      <td>13.093</td>\n    </tr>\n    <tr>\n      <th>2</th>\n      <td>47</td>\n      <td>1</td>\n      <td>1</td>\n      <td>0</td>\n      <td>10.114</td>\n    </tr>\n    <tr>\n      <th>3</th>\n      <td>28</td>\n      <td>0</td>\n      <td>2</td>\n      <td>0</td>\n      <td>7.798</td>\n    </tr>\n    <tr>\n      <th>4</th>\n      <td>61</td>\n      <td>0</td>\n      <td>1</td>\n      <td>0</td>\n      <td>18.043</td>\n    </tr>\n    <tr>\n      <th>...</th>\n      <td>...</td>\n      <td>...</td>\n      <td>...</td>\n      <td>...</td>\n      <td>...</td>\n    </tr>\n    <tr>\n      <th>195</th>\n      <td>56</td>\n      <td>0</td>\n      <td>1</td>\n      <td>0</td>\n      <td>11.567</td>\n    </tr>\n    <tr>\n      <th>196</th>\n      <td>16</td>\n      <td>1</td>\n      <td>1</td>\n      <td>0</td>\n      <td>12.006</td>\n    </tr>\n    <tr>\n      <th>197</th>\n      <td>52</td>\n      <td>1</td>\n      <td>2</td>\n      <td>0</td>\n      <td>9.894</td>\n    </tr>\n    <tr>\n      <th>198</th>\n      <td>23</td>\n      <td>1</td>\n      <td>2</td>\n      <td>1</td>\n      <td>14.020</td>\n    </tr>\n    <tr>\n      <th>199</th>\n      <td>40</td>\n      <td>0</td>\n      <td>1</td>\n      <td>1</td>\n      <td>11.349</td>\n    </tr>\n  </tbody>\n</table>\n<p>200 rows × 5 columns</p>\n</div>"
     },
     "execution_count": 286,
     "metadata": {},
     "output_type": "execute_result"
    }
   ],
   "source": [
    "Drug"
   ],
   "metadata": {
    "collapsed": false,
    "ExecuteTime": {
     "end_time": "2023-05-28T15:15:41.368737300Z",
     "start_time": "2023-05-28T15:15:41.180651800Z"
    }
   }
  },
  {
   "cell_type": "code",
   "execution_count": 287,
   "outputs": [
    {
     "data": {
      "text/plain": "Drug\n0    91\n4    54\n1    23\n3    16\n2    16\nName: count, dtype: int64"
     },
     "execution_count": 287,
     "metadata": {},
     "output_type": "execute_result"
    }
   ],
   "source": [
    "Output.value_counts()"
   ],
   "metadata": {
    "collapsed": false,
    "ExecuteTime": {
     "end_time": "2023-05-28T15:15:41.368737300Z",
     "start_time": "2023-05-28T15:15:41.197536500Z"
    }
   }
  },
  {
   "cell_type": "code",
   "execution_count": 288,
   "outputs": [],
   "source": [
    "#Splitting\n",
    "X_train,X_test,y_train,y_test=train_test_split(Drug,Output,test_size=0.3,random_state=21)"
   ],
   "metadata": {
    "collapsed": false,
    "ExecuteTime": {
     "end_time": "2023-05-28T15:15:41.368737300Z",
     "start_time": "2023-05-28T15:15:41.212167100Z"
    }
   }
  },
  {
   "cell_type": "code",
   "execution_count": 289,
   "outputs": [],
   "source": [
    "from tensorflow import keras\n",
    "from keras.models import Sequential\n",
    "from keras.layers import Dense"
   ],
   "metadata": {
    "collapsed": false,
    "ExecuteTime": {
     "end_time": "2023-05-28T15:15:41.370754300Z",
     "start_time": "2023-05-28T15:15:41.227481600Z"
    }
   }
  },
  {
   "cell_type": "code",
   "execution_count": 290,
   "outputs": [],
   "source": [
    "Model=Sequential()"
   ],
   "metadata": {
    "collapsed": false,
    "ExecuteTime": {
     "end_time": "2023-05-28T15:15:41.370754300Z",
     "start_time": "2023-05-28T15:15:41.251364200Z"
    }
   }
  },
  {
   "cell_type": "code",
   "execution_count": 291,
   "outputs": [],
   "source": [
    "Model.add(Dense(5,input_dim=5,activation='relu'))\n",
    "Model.add(Dense(10,activation='relu'))\n",
    "Model.add(Dense(32,activation='relu'))\n",
    "Model.add(Dense(64,activation='relu'))\n",
    "Model.add(Dense(32,activation='relu'))\n",
    "Model.add(Dense(NOutput,activation='softmax'))"
   ],
   "metadata": {
    "collapsed": false,
    "ExecuteTime": {
     "end_time": "2023-05-28T15:15:41.437962400Z",
     "start_time": "2023-05-28T15:15:41.269569100Z"
    }
   }
  },
  {
   "cell_type": "code",
   "execution_count": 292,
   "outputs": [],
   "source": [
    "Model.compile(optimizer=\"adam\",loss='sparse_categorical_crossentropy',metrics=['accuracy'])"
   ],
   "metadata": {
    "collapsed": false,
    "ExecuteTime": {
     "end_time": "2023-05-28T15:15:41.485371600Z",
     "start_time": "2023-05-28T15:15:41.420153500Z"
    }
   }
  },
  {
   "cell_type": "code",
   "execution_count": 293,
   "outputs": [
    {
     "name": "stdout",
     "output_type": "stream",
     "text": [
      "Epoch 1/300\n",
      "5/5 [==============================] - 3s 59ms/step - loss: 2.5952 - accuracy: 0.2786 - val_loss: 1.3680 - val_accuracy: 0.4333\n",
      "Epoch 2/300\n",
      "5/5 [==============================] - 0s 12ms/step - loss: 1.4195 - accuracy: 0.5214 - val_loss: 1.4068 - val_accuracy: 0.4500\n",
      "Epoch 3/300\n",
      "5/5 [==============================] - 0s 15ms/step - loss: 1.4921 - accuracy: 0.4571 - val_loss: 1.2572 - val_accuracy: 0.4500\n",
      "Epoch 4/300\n",
      "5/5 [==============================] - 0s 16ms/step - loss: 1.2678 - accuracy: 0.4571 - val_loss: 1.2799 - val_accuracy: 0.4500\n",
      "Epoch 5/300\n",
      "5/5 [==============================] - 0s 14ms/step - loss: 1.2263 - accuracy: 0.5429 - val_loss: 1.3025 - val_accuracy: 0.4833\n",
      "Epoch 6/300\n",
      "5/5 [==============================] - 0s 12ms/step - loss: 1.1978 - accuracy: 0.5357 - val_loss: 1.2430 - val_accuracy: 0.4833\n",
      "Epoch 7/300\n",
      "5/5 [==============================] - 0s 8ms/step - loss: 1.1629 - accuracy: 0.5500 - val_loss: 1.2394 - val_accuracy: 0.4833\n",
      "Epoch 8/300\n",
      "5/5 [==============================] - 0s 12ms/step - loss: 1.1497 - accuracy: 0.5500 - val_loss: 1.2124 - val_accuracy: 0.4833\n",
      "Epoch 9/300\n",
      "5/5 [==============================] - 0s 12ms/step - loss: 1.1194 - accuracy: 0.5357 - val_loss: 1.1852 - val_accuracy: 0.5000\n",
      "Epoch 10/300\n",
      "5/5 [==============================] - 0s 12ms/step - loss: 1.1044 - accuracy: 0.5357 - val_loss: 1.1655 - val_accuracy: 0.4833\n",
      "Epoch 11/300\n",
      "5/5 [==============================] - 0s 8ms/step - loss: 1.0864 - accuracy: 0.5500 - val_loss: 1.1697 - val_accuracy: 0.4833\n",
      "Epoch 12/300\n",
      "5/5 [==============================] - 0s 8ms/step - loss: 1.0747 - accuracy: 0.5357 - val_loss: 1.1768 - val_accuracy: 0.4833\n",
      "Epoch 13/300\n",
      "5/5 [==============================] - 0s 8ms/step - loss: 1.0573 - accuracy: 0.5429 - val_loss: 1.2117 - val_accuracy: 0.4667\n",
      "Epoch 14/300\n",
      "5/5 [==============================] - 0s 12ms/step - loss: 1.0604 - accuracy: 0.5571 - val_loss: 1.1988 - val_accuracy: 0.4667\n",
      "Epoch 15/300\n",
      "5/5 [==============================] - 0s 12ms/step - loss: 1.0532 - accuracy: 0.5571 - val_loss: 1.1528 - val_accuracy: 0.5000\n",
      "Epoch 16/300\n",
      "5/5 [==============================] - 0s 8ms/step - loss: 1.0479 - accuracy: 0.5286 - val_loss: 1.1489 - val_accuracy: 0.5000\n",
      "Epoch 17/300\n",
      "5/5 [==============================] - 0s 8ms/step - loss: 1.0364 - accuracy: 0.5500 - val_loss: 1.1877 - val_accuracy: 0.4833\n",
      "Epoch 18/300\n",
      "5/5 [==============================] - 0s 12ms/step - loss: 1.0317 - accuracy: 0.5571 - val_loss: 1.1814 - val_accuracy: 0.4833\n",
      "Epoch 19/300\n",
      "5/5 [==============================] - 0s 12ms/step - loss: 1.0347 - accuracy: 0.5357 - val_loss: 1.1589 - val_accuracy: 0.5000\n",
      "Epoch 20/300\n",
      "5/5 [==============================] - 0s 11ms/step - loss: 1.0234 - accuracy: 0.5429 - val_loss: 1.1928 - val_accuracy: 0.4833\n",
      "Epoch 21/300\n",
      "5/5 [==============================] - 0s 12ms/step - loss: 1.0256 - accuracy: 0.5571 - val_loss: 1.1693 - val_accuracy: 0.4833\n",
      "Epoch 22/300\n",
      "5/5 [==============================] - 0s 12ms/step - loss: 1.0321 - accuracy: 0.5500 - val_loss: 1.1679 - val_accuracy: 0.4833\n",
      "Epoch 23/300\n",
      "5/5 [==============================] - 0s 12ms/step - loss: 1.0230 - accuracy: 0.5214 - val_loss: 1.1742 - val_accuracy: 0.4833\n",
      "Epoch 24/300\n",
      "5/5 [==============================] - 0s 12ms/step - loss: 1.0248 - accuracy: 0.5643 - val_loss: 1.1394 - val_accuracy: 0.5167\n",
      "Epoch 25/300\n",
      "5/5 [==============================] - 0s 12ms/step - loss: 1.0093 - accuracy: 0.5643 - val_loss: 1.1698 - val_accuracy: 0.4833\n",
      "Epoch 26/300\n",
      "5/5 [==============================] - 0s 8ms/step - loss: 1.0244 - accuracy: 0.5500 - val_loss: 1.1552 - val_accuracy: 0.4833\n",
      "Epoch 27/300\n",
      "5/5 [==============================] - 0s 8ms/step - loss: 1.0087 - accuracy: 0.5429 - val_loss: 1.1480 - val_accuracy: 0.5000\n",
      "Epoch 28/300\n",
      "5/5 [==============================] - 0s 16ms/step - loss: 0.9980 - accuracy: 0.5571 - val_loss: 1.1650 - val_accuracy: 0.5000\n",
      "Epoch 29/300\n",
      "5/5 [==============================] - 0s 12ms/step - loss: 1.0008 - accuracy: 0.5857 - val_loss: 1.1677 - val_accuracy: 0.5000\n",
      "Epoch 30/300\n",
      "5/5 [==============================] - 0s 12ms/step - loss: 1.0084 - accuracy: 0.5571 - val_loss: 1.1743 - val_accuracy: 0.5000\n",
      "Epoch 31/300\n",
      "5/5 [==============================] - 0s 9ms/step - loss: 1.0053 - accuracy: 0.5571 - val_loss: 1.1484 - val_accuracy: 0.5167\n",
      "Epoch 32/300\n",
      "5/5 [==============================] - 0s 11ms/step - loss: 0.9920 - accuracy: 0.5643 - val_loss: 1.1293 - val_accuracy: 0.5333\n",
      "Epoch 33/300\n",
      "5/5 [==============================] - 0s 8ms/step - loss: 0.9968 - accuracy: 0.5571 - val_loss: 1.1168 - val_accuracy: 0.5333\n",
      "Epoch 34/300\n",
      "5/5 [==============================] - 0s 12ms/step - loss: 0.9907 - accuracy: 0.5714 - val_loss: 1.1438 - val_accuracy: 0.5333\n",
      "Epoch 35/300\n",
      "5/5 [==============================] - 0s 8ms/step - loss: 0.9913 - accuracy: 0.5643 - val_loss: 1.1881 - val_accuracy: 0.5000\n",
      "Epoch 36/300\n",
      "5/5 [==============================] - 0s 8ms/step - loss: 1.0191 - accuracy: 0.5571 - val_loss: 1.1404 - val_accuracy: 0.5167\n",
      "Epoch 37/300\n",
      "5/5 [==============================] - 0s 12ms/step - loss: 0.9738 - accuracy: 0.5857 - val_loss: 1.1375 - val_accuracy: 0.4833\n",
      "Epoch 38/300\n",
      "5/5 [==============================] - 0s 8ms/step - loss: 0.9966 - accuracy: 0.6000 - val_loss: 1.1394 - val_accuracy: 0.5333\n",
      "Epoch 39/300\n",
      "5/5 [==============================] - 0s 8ms/step - loss: 0.9855 - accuracy: 0.5786 - val_loss: 1.1788 - val_accuracy: 0.5167\n",
      "Epoch 40/300\n",
      "5/5 [==============================] - 0s 8ms/step - loss: 0.9879 - accuracy: 0.5714 - val_loss: 1.1479 - val_accuracy: 0.5167\n",
      "Epoch 41/300\n",
      "5/5 [==============================] - 0s 8ms/step - loss: 0.9721 - accuracy: 0.5571 - val_loss: 1.1103 - val_accuracy: 0.5167\n",
      "Epoch 42/300\n",
      "5/5 [==============================] - 0s 12ms/step - loss: 0.9761 - accuracy: 0.5786 - val_loss: 1.1218 - val_accuracy: 0.5500\n",
      "Epoch 43/300\n",
      "5/5 [==============================] - 0s 8ms/step - loss: 0.9837 - accuracy: 0.5643 - val_loss: 1.1572 - val_accuracy: 0.5000\n",
      "Epoch 44/300\n",
      "5/5 [==============================] - 0s 8ms/step - loss: 0.9894 - accuracy: 0.5786 - val_loss: 1.1813 - val_accuracy: 0.5000\n",
      "Epoch 45/300\n",
      "5/5 [==============================] - 0s 10ms/step - loss: 0.9783 - accuracy: 0.5571 - val_loss: 1.1512 - val_accuracy: 0.5000\n",
      "Epoch 46/300\n",
      "5/5 [==============================] - 0s 8ms/step - loss: 0.9730 - accuracy: 0.5571 - val_loss: 1.1122 - val_accuracy: 0.5333\n",
      "Epoch 47/300\n",
      "5/5 [==============================] - 0s 12ms/step - loss: 0.9719 - accuracy: 0.5571 - val_loss: 1.1038 - val_accuracy: 0.4833\n",
      "Epoch 48/300\n",
      "5/5 [==============================] - 0s 11ms/step - loss: 0.9707 - accuracy: 0.5714 - val_loss: 1.1377 - val_accuracy: 0.5500\n",
      "Epoch 49/300\n",
      "5/5 [==============================] - 0s 8ms/step - loss: 0.9612 - accuracy: 0.5857 - val_loss: 1.1322 - val_accuracy: 0.5333\n",
      "Epoch 50/300\n",
      "5/5 [==============================] - 0s 12ms/step - loss: 0.9678 - accuracy: 0.5714 - val_loss: 1.1165 - val_accuracy: 0.5500\n",
      "Epoch 51/300\n",
      "5/5 [==============================] - 0s 12ms/step - loss: 0.9553 - accuracy: 0.5929 - val_loss: 1.1432 - val_accuracy: 0.5167\n",
      "Epoch 52/300\n",
      "5/5 [==============================] - 0s 13ms/step - loss: 0.9602 - accuracy: 0.5857 - val_loss: 1.1164 - val_accuracy: 0.5167\n",
      "Epoch 53/300\n",
      "5/5 [==============================] - 0s 8ms/step - loss: 0.9501 - accuracy: 0.5786 - val_loss: 1.1353 - val_accuracy: 0.5833\n",
      "Epoch 54/300\n",
      "5/5 [==============================] - 0s 8ms/step - loss: 0.9545 - accuracy: 0.5714 - val_loss: 1.1041 - val_accuracy: 0.5333\n",
      "Epoch 55/300\n",
      "5/5 [==============================] - 0s 8ms/step - loss: 0.9606 - accuracy: 0.5857 - val_loss: 1.0736 - val_accuracy: 0.5000\n",
      "Epoch 56/300\n",
      "5/5 [==============================] - 0s 8ms/step - loss: 0.9626 - accuracy: 0.5857 - val_loss: 1.1058 - val_accuracy: 0.5667\n",
      "Epoch 57/300\n",
      "5/5 [==============================] - 0s 8ms/step - loss: 0.9561 - accuracy: 0.5857 - val_loss: 1.1675 - val_accuracy: 0.5333\n",
      "Epoch 58/300\n",
      "5/5 [==============================] - 0s 12ms/step - loss: 0.9534 - accuracy: 0.5643 - val_loss: 1.1130 - val_accuracy: 0.5833\n",
      "Epoch 59/300\n",
      "5/5 [==============================] - 0s 12ms/step - loss: 0.9425 - accuracy: 0.5714 - val_loss: 1.0823 - val_accuracy: 0.4833\n",
      "Epoch 60/300\n",
      "5/5 [==============================] - 0s 9ms/step - loss: 0.9509 - accuracy: 0.5786 - val_loss: 1.1006 - val_accuracy: 0.5167\n",
      "Epoch 61/300\n",
      "5/5 [==============================] - 0s 8ms/step - loss: 0.9367 - accuracy: 0.6000 - val_loss: 1.1122 - val_accuracy: 0.5167\n",
      "Epoch 62/300\n",
      "5/5 [==============================] - 0s 9ms/step - loss: 0.9499 - accuracy: 0.5714 - val_loss: 1.1206 - val_accuracy: 0.5500\n",
      "Epoch 63/300\n",
      "5/5 [==============================] - 0s 12ms/step - loss: 0.9500 - accuracy: 0.5714 - val_loss: 1.0822 - val_accuracy: 0.5333\n",
      "Epoch 64/300\n",
      "5/5 [==============================] - 0s 15ms/step - loss: 0.9321 - accuracy: 0.5786 - val_loss: 1.1201 - val_accuracy: 0.5167\n",
      "Epoch 65/300\n",
      "5/5 [==============================] - 0s 16ms/step - loss: 0.9441 - accuracy: 0.5786 - val_loss: 1.0889 - val_accuracy: 0.5333\n",
      "Epoch 66/300\n",
      "5/5 [==============================] - 0s 12ms/step - loss: 0.9361 - accuracy: 0.5857 - val_loss: 1.1017 - val_accuracy: 0.5167\n",
      "Epoch 67/300\n",
      "5/5 [==============================] - 0s 8ms/step - loss: 0.9332 - accuracy: 0.5929 - val_loss: 1.0872 - val_accuracy: 0.5333\n",
      "Epoch 68/300\n",
      "5/5 [==============================] - 0s 12ms/step - loss: 0.9258 - accuracy: 0.6000 - val_loss: 1.1025 - val_accuracy: 0.5500\n",
      "Epoch 69/300\n",
      "5/5 [==============================] - 0s 11ms/step - loss: 0.9270 - accuracy: 0.5929 - val_loss: 1.1010 - val_accuracy: 0.5500\n",
      "Epoch 70/300\n",
      "5/5 [==============================] - 0s 12ms/step - loss: 0.9318 - accuracy: 0.5857 - val_loss: 1.0897 - val_accuracy: 0.5500\n",
      "Epoch 71/300\n",
      "5/5 [==============================] - 0s 15ms/step - loss: 0.9239 - accuracy: 0.5929 - val_loss: 1.0832 - val_accuracy: 0.5333\n",
      "Epoch 72/300\n",
      "5/5 [==============================] - 0s 12ms/step - loss: 0.9210 - accuracy: 0.6000 - val_loss: 1.0804 - val_accuracy: 0.5333\n",
      "Epoch 73/300\n",
      "5/5 [==============================] - 0s 8ms/step - loss: 0.9261 - accuracy: 0.5786 - val_loss: 1.0856 - val_accuracy: 0.5333\n",
      "Epoch 74/300\n",
      "5/5 [==============================] - 0s 12ms/step - loss: 0.9174 - accuracy: 0.5929 - val_loss: 1.0869 - val_accuracy: 0.5667\n",
      "Epoch 75/300\n",
      "5/5 [==============================] - 0s 8ms/step - loss: 0.9156 - accuracy: 0.6000 - val_loss: 1.0725 - val_accuracy: 0.5333\n",
      "Epoch 76/300\n",
      "5/5 [==============================] - 0s 8ms/step - loss: 0.9179 - accuracy: 0.5929 - val_loss: 1.0695 - val_accuracy: 0.5667\n",
      "Epoch 77/300\n",
      "5/5 [==============================] - 0s 8ms/step - loss: 0.9235 - accuracy: 0.5857 - val_loss: 1.0659 - val_accuracy: 0.5667\n",
      "Epoch 78/300\n",
      "5/5 [==============================] - 0s 8ms/step - loss: 0.9224 - accuracy: 0.5929 - val_loss: 1.0578 - val_accuracy: 0.5333\n",
      "Epoch 79/300\n",
      "5/5 [==============================] - 0s 8ms/step - loss: 0.9299 - accuracy: 0.6143 - val_loss: 1.1142 - val_accuracy: 0.5167\n",
      "Epoch 80/300\n",
      "5/5 [==============================] - 0s 12ms/step - loss: 0.9078 - accuracy: 0.6143 - val_loss: 1.0875 - val_accuracy: 0.5333\n",
      "Epoch 81/300\n",
      "5/5 [==============================] - 0s 8ms/step - loss: 0.9243 - accuracy: 0.5786 - val_loss: 1.0815 - val_accuracy: 0.5667\n",
      "Epoch 82/300\n",
      "5/5 [==============================] - 0s 9ms/step - loss: 0.9048 - accuracy: 0.6143 - val_loss: 1.0703 - val_accuracy: 0.5333\n",
      "Epoch 83/300\n",
      "5/5 [==============================] - 0s 10ms/step - loss: 0.9106 - accuracy: 0.5929 - val_loss: 1.0485 - val_accuracy: 0.5333\n",
      "Epoch 84/300\n",
      "5/5 [==============================] - 0s 8ms/step - loss: 0.9168 - accuracy: 0.5929 - val_loss: 1.1283 - val_accuracy: 0.5667\n",
      "Epoch 85/300\n",
      "5/5 [==============================] - 0s 12ms/step - loss: 0.9230 - accuracy: 0.6143 - val_loss: 1.0779 - val_accuracy: 0.5667\n",
      "Epoch 86/300\n",
      "5/5 [==============================] - 0s 12ms/step - loss: 0.9108 - accuracy: 0.6143 - val_loss: 1.0219 - val_accuracy: 0.4833\n",
      "Epoch 87/300\n",
      "5/5 [==============================] - 0s 12ms/step - loss: 0.9038 - accuracy: 0.5929 - val_loss: 1.0505 - val_accuracy: 0.5333\n",
      "Epoch 88/300\n",
      "5/5 [==============================] - 0s 8ms/step - loss: 0.9126 - accuracy: 0.6000 - val_loss: 1.1312 - val_accuracy: 0.5500\n",
      "Epoch 89/300\n",
      "5/5 [==============================] - 0s 8ms/step - loss: 0.9127 - accuracy: 0.6214 - val_loss: 1.0615 - val_accuracy: 0.5500\n",
      "Epoch 90/300\n",
      "5/5 [==============================] - 0s 8ms/step - loss: 0.9366 - accuracy: 0.5786 - val_loss: 1.0366 - val_accuracy: 0.5500\n",
      "Epoch 91/300\n",
      "5/5 [==============================] - 0s 8ms/step - loss: 0.9028 - accuracy: 0.6214 - val_loss: 1.1240 - val_accuracy: 0.4667\n",
      "Epoch 92/300\n",
      "5/5 [==============================] - 0s 8ms/step - loss: 0.9040 - accuracy: 0.6143 - val_loss: 1.0359 - val_accuracy: 0.5333\n",
      "Epoch 93/300\n",
      "5/5 [==============================] - 0s 12ms/step - loss: 0.9049 - accuracy: 0.5929 - val_loss: 1.0273 - val_accuracy: 0.5333\n",
      "Epoch 94/300\n",
      "5/5 [==============================] - 0s 12ms/step - loss: 0.8810 - accuracy: 0.6286 - val_loss: 1.0690 - val_accuracy: 0.5500\n",
      "Epoch 95/300\n",
      "5/5 [==============================] - 0s 12ms/step - loss: 0.8902 - accuracy: 0.6000 - val_loss: 1.0309 - val_accuracy: 0.5333\n",
      "Epoch 96/300\n",
      "5/5 [==============================] - 0s 6ms/step - loss: 0.8929 - accuracy: 0.5857 - val_loss: 1.0289 - val_accuracy: 0.5000\n",
      "Epoch 97/300\n",
      "5/5 [==============================] - 0s 9ms/step - loss: 0.8721 - accuracy: 0.6500 - val_loss: 1.0604 - val_accuracy: 0.5667\n",
      "Epoch 98/300\n",
      "5/5 [==============================] - 0s 8ms/step - loss: 0.8834 - accuracy: 0.5786 - val_loss: 1.0857 - val_accuracy: 0.5333\n",
      "Epoch 99/300\n",
      "5/5 [==============================] - 0s 8ms/step - loss: 0.8815 - accuracy: 0.6214 - val_loss: 1.0516 - val_accuracy: 0.5500\n",
      "Epoch 100/300\n",
      "5/5 [==============================] - 0s 8ms/step - loss: 0.8668 - accuracy: 0.6214 - val_loss: 1.0009 - val_accuracy: 0.5333\n",
      "Epoch 101/300\n",
      "5/5 [==============================] - 0s 9ms/step - loss: 0.8618 - accuracy: 0.6286 - val_loss: 1.0121 - val_accuracy: 0.5667\n",
      "Epoch 102/300\n",
      "5/5 [==============================] - 0s 8ms/step - loss: 0.8648 - accuracy: 0.6143 - val_loss: 1.0490 - val_accuracy: 0.5833\n",
      "Epoch 103/300\n",
      "5/5 [==============================] - 0s 8ms/step - loss: 0.8720 - accuracy: 0.6000 - val_loss: 1.0390 - val_accuracy: 0.5333\n",
      "Epoch 104/300\n",
      "5/5 [==============================] - 0s 12ms/step - loss: 0.8774 - accuracy: 0.6214 - val_loss: 1.0322 - val_accuracy: 0.5167\n",
      "Epoch 105/300\n",
      "5/5 [==============================] - 0s 12ms/step - loss: 0.8528 - accuracy: 0.6071 - val_loss: 1.0008 - val_accuracy: 0.5667\n",
      "Epoch 106/300\n",
      "5/5 [==============================] - 0s 8ms/step - loss: 0.8598 - accuracy: 0.6214 - val_loss: 1.0561 - val_accuracy: 0.5667\n",
      "Epoch 107/300\n",
      "5/5 [==============================] - 0s 12ms/step - loss: 0.8543 - accuracy: 0.6214 - val_loss: 1.0275 - val_accuracy: 0.5667\n",
      "Epoch 108/300\n",
      "5/5 [==============================] - 0s 14ms/step - loss: 0.8444 - accuracy: 0.6429 - val_loss: 1.0046 - val_accuracy: 0.5667\n",
      "Epoch 109/300\n",
      "5/5 [==============================] - 0s 11ms/step - loss: 0.8419 - accuracy: 0.6429 - val_loss: 1.0190 - val_accuracy: 0.5333\n",
      "Epoch 110/300\n",
      "5/5 [==============================] - 0s 16ms/step - loss: 0.8409 - accuracy: 0.6357 - val_loss: 0.9843 - val_accuracy: 0.5667\n",
      "Epoch 111/300\n",
      "5/5 [==============================] - 0s 9ms/step - loss: 0.8463 - accuracy: 0.6286 - val_loss: 0.9964 - val_accuracy: 0.5667\n",
      "Epoch 112/300\n",
      "5/5 [==============================] - 0s 16ms/step - loss: 0.8510 - accuracy: 0.6071 - val_loss: 1.0289 - val_accuracy: 0.5667\n",
      "Epoch 113/300\n",
      "5/5 [==============================] - 0s 12ms/step - loss: 0.8253 - accuracy: 0.6357 - val_loss: 0.9623 - val_accuracy: 0.5833\n",
      "Epoch 114/300\n",
      "5/5 [==============================] - 0s 9ms/step - loss: 0.8263 - accuracy: 0.6643 - val_loss: 0.9583 - val_accuracy: 0.5667\n",
      "Epoch 115/300\n",
      "5/5 [==============================] - 0s 11ms/step - loss: 0.8170 - accuracy: 0.6643 - val_loss: 1.0021 - val_accuracy: 0.5833\n",
      "Epoch 116/300\n",
      "5/5 [==============================] - 0s 12ms/step - loss: 0.8112 - accuracy: 0.6500 - val_loss: 0.9700 - val_accuracy: 0.5500\n",
      "Epoch 117/300\n",
      "5/5 [==============================] - 0s 8ms/step - loss: 0.8121 - accuracy: 0.6429 - val_loss: 0.9582 - val_accuracy: 0.5833\n",
      "Epoch 118/300\n",
      "5/5 [==============================] - 0s 8ms/step - loss: 0.8282 - accuracy: 0.7286 - val_loss: 0.9960 - val_accuracy: 0.5833\n",
      "Epoch 119/300\n",
      "5/5 [==============================] - 0s 11ms/step - loss: 0.8311 - accuracy: 0.6429 - val_loss: 1.0218 - val_accuracy: 0.6000\n",
      "Epoch 120/300\n",
      "5/5 [==============================] - 0s 8ms/step - loss: 0.8141 - accuracy: 0.6214 - val_loss: 0.9893 - val_accuracy: 0.5833\n",
      "Epoch 121/300\n",
      "5/5 [==============================] - 0s 8ms/step - loss: 0.8579 - accuracy: 0.7071 - val_loss: 0.9476 - val_accuracy: 0.6333\n",
      "Epoch 122/300\n",
      "5/5 [==============================] - 0s 7ms/step - loss: 0.8028 - accuracy: 0.6714 - val_loss: 0.9295 - val_accuracy: 0.6000\n",
      "Epoch 123/300\n",
      "5/5 [==============================] - 0s 8ms/step - loss: 0.7885 - accuracy: 0.6714 - val_loss: 0.9894 - val_accuracy: 0.5333\n",
      "Epoch 124/300\n",
      "5/5 [==============================] - 0s 12ms/step - loss: 0.7968 - accuracy: 0.6786 - val_loss: 0.9095 - val_accuracy: 0.6000\n",
      "Epoch 125/300\n",
      "5/5 [==============================] - 0s 8ms/step - loss: 0.8067 - accuracy: 0.6571 - val_loss: 0.9311 - val_accuracy: 0.5833\n",
      "Epoch 126/300\n",
      "5/5 [==============================] - 0s 8ms/step - loss: 0.7841 - accuracy: 0.7071 - val_loss: 0.9745 - val_accuracy: 0.5667\n",
      "Epoch 127/300\n",
      "5/5 [==============================] - 0s 8ms/step - loss: 0.7838 - accuracy: 0.6571 - val_loss: 0.9331 - val_accuracy: 0.6000\n",
      "Epoch 128/300\n",
      "5/5 [==============================] - 0s 8ms/step - loss: 0.7803 - accuracy: 0.6500 - val_loss: 0.8860 - val_accuracy: 0.6333\n",
      "Epoch 129/300\n",
      "5/5 [==============================] - 0s 8ms/step - loss: 0.7493 - accuracy: 0.7357 - val_loss: 0.8705 - val_accuracy: 0.6167\n",
      "Epoch 130/300\n",
      "5/5 [==============================] - 0s 8ms/step - loss: 0.7467 - accuracy: 0.7500 - val_loss: 0.9113 - val_accuracy: 0.6000\n",
      "Epoch 131/300\n",
      "5/5 [==============================] - 0s 7ms/step - loss: 0.7353 - accuracy: 0.7214 - val_loss: 0.8533 - val_accuracy: 0.6333\n",
      "Epoch 132/300\n",
      "5/5 [==============================] - 0s 12ms/step - loss: 0.7271 - accuracy: 0.7214 - val_loss: 0.8474 - val_accuracy: 0.6333\n",
      "Epoch 133/300\n",
      "5/5 [==============================] - 0s 10ms/step - loss: 0.7236 - accuracy: 0.7500 - val_loss: 0.8251 - val_accuracy: 0.6333\n",
      "Epoch 134/300\n",
      "5/5 [==============================] - 0s 12ms/step - loss: 0.7159 - accuracy: 0.7357 - val_loss: 0.8556 - val_accuracy: 0.6000\n",
      "Epoch 135/300\n",
      "5/5 [==============================] - 0s 8ms/step - loss: 0.7203 - accuracy: 0.6929 - val_loss: 0.8176 - val_accuracy: 0.6333\n",
      "Epoch 136/300\n",
      "5/5 [==============================] - 0s 12ms/step - loss: 0.6985 - accuracy: 0.7571 - val_loss: 0.7876 - val_accuracy: 0.6833\n",
      "Epoch 137/300\n",
      "5/5 [==============================] - 0s 13ms/step - loss: 0.6983 - accuracy: 0.7571 - val_loss: 0.7839 - val_accuracy: 0.6500\n",
      "Epoch 138/300\n",
      "5/5 [==============================] - 0s 8ms/step - loss: 0.6915 - accuracy: 0.7571 - val_loss: 0.8046 - val_accuracy: 0.6500\n",
      "Epoch 139/300\n",
      "5/5 [==============================] - 0s 12ms/step - loss: 0.6715 - accuracy: 0.7500 - val_loss: 0.7968 - val_accuracy: 0.6667\n",
      "Epoch 140/300\n",
      "5/5 [==============================] - 0s 12ms/step - loss: 0.6727 - accuracy: 0.7429 - val_loss: 0.7790 - val_accuracy: 0.7167\n",
      "Epoch 141/300\n",
      "5/5 [==============================] - 0s 12ms/step - loss: 0.6703 - accuracy: 0.7786 - val_loss: 0.7631 - val_accuracy: 0.6333\n",
      "Epoch 142/300\n",
      "5/5 [==============================] - 0s 12ms/step - loss: 0.6612 - accuracy: 0.7643 - val_loss: 0.7449 - val_accuracy: 0.6500\n",
      "Epoch 143/300\n",
      "5/5 [==============================] - 0s 12ms/step - loss: 0.6347 - accuracy: 0.7571 - val_loss: 0.7366 - val_accuracy: 0.7000\n",
      "Epoch 144/300\n",
      "5/5 [==============================] - 0s 12ms/step - loss: 0.6483 - accuracy: 0.7643 - val_loss: 0.7102 - val_accuracy: 0.7000\n",
      "Epoch 145/300\n",
      "5/5 [==============================] - 0s 8ms/step - loss: 0.6431 - accuracy: 0.7714 - val_loss: 0.7450 - val_accuracy: 0.6667\n",
      "Epoch 146/300\n",
      "5/5 [==============================] - 0s 13ms/step - loss: 0.6343 - accuracy: 0.7929 - val_loss: 0.7321 - val_accuracy: 0.7167\n",
      "Epoch 147/300\n",
      "5/5 [==============================] - 0s 12ms/step - loss: 0.6226 - accuracy: 0.7500 - val_loss: 0.6789 - val_accuracy: 0.7167\n",
      "Epoch 148/300\n",
      "5/5 [==============================] - 0s 11ms/step - loss: 0.6203 - accuracy: 0.8071 - val_loss: 0.7173 - val_accuracy: 0.6833\n",
      "Epoch 149/300\n",
      "5/5 [==============================] - 0s 12ms/step - loss: 0.6169 - accuracy: 0.7714 - val_loss: 0.7036 - val_accuracy: 0.7333\n",
      "Epoch 150/300\n",
      "5/5 [==============================] - 0s 12ms/step - loss: 0.5927 - accuracy: 0.7929 - val_loss: 0.6843 - val_accuracy: 0.7333\n",
      "Epoch 151/300\n",
      "5/5 [==============================] - 0s 12ms/step - loss: 0.5929 - accuracy: 0.7929 - val_loss: 0.6772 - val_accuracy: 0.7667\n",
      "Epoch 152/300\n",
      "5/5 [==============================] - 0s 8ms/step - loss: 0.6485 - accuracy: 0.7429 - val_loss: 0.6622 - val_accuracy: 0.7333\n",
      "Epoch 153/300\n",
      "5/5 [==============================] - 0s 8ms/step - loss: 0.5689 - accuracy: 0.8000 - val_loss: 0.6318 - val_accuracy: 0.7333\n",
      "Epoch 154/300\n",
      "5/5 [==============================] - 0s 12ms/step - loss: 0.5745 - accuracy: 0.7857 - val_loss: 0.7255 - val_accuracy: 0.6833\n",
      "Epoch 155/300\n",
      "5/5 [==============================] - 0s 12ms/step - loss: 0.6151 - accuracy: 0.7500 - val_loss: 0.6400 - val_accuracy: 0.7500\n",
      "Epoch 156/300\n",
      "5/5 [==============================] - 0s 8ms/step - loss: 0.5638 - accuracy: 0.7929 - val_loss: 0.6682 - val_accuracy: 0.7000\n",
      "Epoch 157/300\n",
      "5/5 [==============================] - 0s 16ms/step - loss: 0.5633 - accuracy: 0.7857 - val_loss: 0.6285 - val_accuracy: 0.7167\n",
      "Epoch 158/300\n",
      "5/5 [==============================] - 0s 12ms/step - loss: 0.5564 - accuracy: 0.7929 - val_loss: 0.6139 - val_accuracy: 0.7333\n",
      "Epoch 159/300\n",
      "5/5 [==============================] - 0s 12ms/step - loss: 0.5353 - accuracy: 0.8214 - val_loss: 0.5899 - val_accuracy: 0.7667\n",
      "Epoch 160/300\n",
      "5/5 [==============================] - 0s 12ms/step - loss: 0.5179 - accuracy: 0.8143 - val_loss: 0.5832 - val_accuracy: 0.7500\n",
      "Epoch 161/300\n",
      "5/5 [==============================] - 0s 12ms/step - loss: 0.5216 - accuracy: 0.8071 - val_loss: 0.6142 - val_accuracy: 0.7667\n",
      "Epoch 162/300\n",
      "5/5 [==============================] - 0s 12ms/step - loss: 0.5363 - accuracy: 0.7929 - val_loss: 0.5717 - val_accuracy: 0.7167\n",
      "Epoch 163/300\n",
      "5/5 [==============================] - 0s 12ms/step - loss: 0.5207 - accuracy: 0.8000 - val_loss: 0.6134 - val_accuracy: 0.7667\n",
      "Epoch 164/300\n",
      "5/5 [==============================] - 0s 10ms/step - loss: 0.5157 - accuracy: 0.7929 - val_loss: 0.5668 - val_accuracy: 0.8000\n",
      "Epoch 165/300\n",
      "5/5 [==============================] - 0s 8ms/step - loss: 0.5083 - accuracy: 0.8000 - val_loss: 0.6353 - val_accuracy: 0.7500\n",
      "Epoch 166/300\n",
      "5/5 [==============================] - 0s 8ms/step - loss: 0.5040 - accuracy: 0.8143 - val_loss: 0.5548 - val_accuracy: 0.7667\n",
      "Epoch 167/300\n",
      "5/5 [==============================] - 0s 8ms/step - loss: 0.5273 - accuracy: 0.7857 - val_loss: 0.6478 - val_accuracy: 0.7500\n",
      "Epoch 168/300\n",
      "5/5 [==============================] - 0s 8ms/step - loss: 0.5808 - accuracy: 0.7929 - val_loss: 0.5434 - val_accuracy: 0.7500\n",
      "Epoch 169/300\n",
      "5/5 [==============================] - 0s 8ms/step - loss: 0.6028 - accuracy: 0.7214 - val_loss: 0.6471 - val_accuracy: 0.7667\n",
      "Epoch 170/300\n",
      "5/5 [==============================] - 0s 10ms/step - loss: 0.5639 - accuracy: 0.7929 - val_loss: 0.5661 - val_accuracy: 0.7167\n",
      "Epoch 171/300\n",
      "5/5 [==============================] - 0s 8ms/step - loss: 0.5709 - accuracy: 0.7500 - val_loss: 0.6276 - val_accuracy: 0.7333\n",
      "Epoch 172/300\n",
      "5/5 [==============================] - 0s 8ms/step - loss: 0.5491 - accuracy: 0.8214 - val_loss: 0.6182 - val_accuracy: 0.7500\n",
      "Epoch 173/300\n",
      "5/5 [==============================] - 0s 12ms/step - loss: 0.5393 - accuracy: 0.7786 - val_loss: 0.5328 - val_accuracy: 0.8167\n",
      "Epoch 174/300\n",
      "5/5 [==============================] - 0s 12ms/step - loss: 0.4635 - accuracy: 0.8214 - val_loss: 0.5407 - val_accuracy: 0.7667\n",
      "Epoch 175/300\n",
      "5/5 [==============================] - 0s 12ms/step - loss: 0.4541 - accuracy: 0.8214 - val_loss: 0.5235 - val_accuracy: 0.8167\n",
      "Epoch 176/300\n",
      "5/5 [==============================] - 0s 8ms/step - loss: 0.4577 - accuracy: 0.8357 - val_loss: 0.4960 - val_accuracy: 0.8000\n",
      "Epoch 177/300\n",
      "5/5 [==============================] - 0s 12ms/step - loss: 0.4863 - accuracy: 0.8143 - val_loss: 0.5158 - val_accuracy: 0.8000\n",
      "Epoch 178/300\n",
      "5/5 [==============================] - 0s 32ms/step - loss: 0.5094 - accuracy: 0.8071 - val_loss: 0.4835 - val_accuracy: 0.8000\n",
      "Epoch 179/300\n",
      "5/5 [==============================] - 0s 8ms/step - loss: 0.4766 - accuracy: 0.8000 - val_loss: 0.4945 - val_accuracy: 0.8000\n",
      "Epoch 180/300\n",
      "5/5 [==============================] - 0s 12ms/step - loss: 0.5065 - accuracy: 0.8143 - val_loss: 0.4855 - val_accuracy: 0.8167\n",
      "Epoch 181/300\n",
      "5/5 [==============================] - 0s 8ms/step - loss: 0.4832 - accuracy: 0.8071 - val_loss: 0.5090 - val_accuracy: 0.7833\n",
      "Epoch 182/300\n",
      "5/5 [==============================] - 0s 8ms/step - loss: 0.4416 - accuracy: 0.8143 - val_loss: 0.4741 - val_accuracy: 0.8167\n",
      "Epoch 183/300\n",
      "5/5 [==============================] - 0s 10ms/step - loss: 0.4354 - accuracy: 0.8286 - val_loss: 0.4752 - val_accuracy: 0.7833\n",
      "Epoch 184/300\n",
      "5/5 [==============================] - 0s 8ms/step - loss: 0.4166 - accuracy: 0.8500 - val_loss: 0.4823 - val_accuracy: 0.7667\n",
      "Epoch 185/300\n",
      "5/5 [==============================] - 0s 8ms/step - loss: 0.4323 - accuracy: 0.8357 - val_loss: 0.4501 - val_accuracy: 0.8333\n",
      "Epoch 186/300\n",
      "5/5 [==============================] - 0s 12ms/step - loss: 0.4277 - accuracy: 0.8357 - val_loss: 0.4575 - val_accuracy: 0.7833\n",
      "Epoch 187/300\n",
      "5/5 [==============================] - 0s 8ms/step - loss: 0.4180 - accuracy: 0.8286 - val_loss: 0.4788 - val_accuracy: 0.7833\n",
      "Epoch 188/300\n",
      "5/5 [==============================] - 0s 12ms/step - loss: 0.4151 - accuracy: 0.8286 - val_loss: 0.4530 - val_accuracy: 0.8333\n",
      "Epoch 189/300\n",
      "5/5 [==============================] - 0s 12ms/step - loss: 0.4296 - accuracy: 0.8286 - val_loss: 0.4767 - val_accuracy: 0.8000\n",
      "Epoch 190/300\n",
      "5/5 [==============================] - 0s 8ms/step - loss: 0.4296 - accuracy: 0.8429 - val_loss: 0.4459 - val_accuracy: 0.8000\n",
      "Epoch 191/300\n",
      "5/5 [==============================] - 0s 8ms/step - loss: 0.4026 - accuracy: 0.8357 - val_loss: 0.4466 - val_accuracy: 0.7667\n",
      "Epoch 192/300\n",
      "5/5 [==============================] - 0s 8ms/step - loss: 0.3930 - accuracy: 0.8500 - val_loss: 0.4350 - val_accuracy: 0.8333\n",
      "Epoch 193/300\n",
      "5/5 [==============================] - 0s 8ms/step - loss: 0.3953 - accuracy: 0.8357 - val_loss: 0.4562 - val_accuracy: 0.7667\n",
      "Epoch 194/300\n",
      "5/5 [==============================] - 0s 13ms/step - loss: 0.3899 - accuracy: 0.8429 - val_loss: 0.4426 - val_accuracy: 0.8000\n",
      "Epoch 195/300\n",
      "5/5 [==============================] - 0s 8ms/step - loss: 0.3919 - accuracy: 0.8429 - val_loss: 0.4256 - val_accuracy: 0.8333\n",
      "Epoch 196/300\n",
      "5/5 [==============================] - 0s 12ms/step - loss: 0.3809 - accuracy: 0.8429 - val_loss: 0.4330 - val_accuracy: 0.8000\n",
      "Epoch 197/300\n",
      "5/5 [==============================] - 0s 8ms/step - loss: 0.4023 - accuracy: 0.8286 - val_loss: 0.4607 - val_accuracy: 0.7667\n",
      "Epoch 198/300\n",
      "5/5 [==============================] - 0s 8ms/step - loss: 0.3903 - accuracy: 0.8429 - val_loss: 0.4179 - val_accuracy: 0.8500\n",
      "Epoch 199/300\n",
      "5/5 [==============================] - 0s 11ms/step - loss: 0.4056 - accuracy: 0.8286 - val_loss: 0.4494 - val_accuracy: 0.7833\n",
      "Epoch 200/300\n",
      "5/5 [==============================] - 0s 8ms/step - loss: 0.4470 - accuracy: 0.8214 - val_loss: 0.4271 - val_accuracy: 0.8500\n",
      "Epoch 201/300\n",
      "5/5 [==============================] - 0s 16ms/step - loss: 0.4163 - accuracy: 0.8071 - val_loss: 0.4342 - val_accuracy: 0.8000\n",
      "Epoch 202/300\n",
      "5/5 [==============================] - 0s 16ms/step - loss: 0.3794 - accuracy: 0.8571 - val_loss: 0.4236 - val_accuracy: 0.8167\n",
      "Epoch 203/300\n",
      "5/5 [==============================] - 0s 12ms/step - loss: 0.3747 - accuracy: 0.8571 - val_loss: 0.4222 - val_accuracy: 0.8167\n",
      "Epoch 204/300\n",
      "5/5 [==============================] - 0s 13ms/step - loss: 0.4052 - accuracy: 0.8500 - val_loss: 0.4498 - val_accuracy: 0.7500\n",
      "Epoch 205/300\n",
      "5/5 [==============================] - 0s 11ms/step - loss: 0.3533 - accuracy: 0.8500 - val_loss: 0.4653 - val_accuracy: 0.8167\n",
      "Epoch 206/300\n",
      "5/5 [==============================] - 0s 8ms/step - loss: 0.3811 - accuracy: 0.8571 - val_loss: 0.4206 - val_accuracy: 0.7667\n",
      "Epoch 207/300\n",
      "5/5 [==============================] - 0s 12ms/step - loss: 0.3660 - accuracy: 0.8429 - val_loss: 0.3957 - val_accuracy: 0.8167\n",
      "Epoch 208/300\n",
      "5/5 [==============================] - 0s 8ms/step - loss: 0.3570 - accuracy: 0.8500 - val_loss: 0.4160 - val_accuracy: 0.7667\n",
      "Epoch 209/300\n",
      "5/5 [==============================] - 0s 12ms/step - loss: 0.3633 - accuracy: 0.8500 - val_loss: 0.4115 - val_accuracy: 0.8667\n",
      "Epoch 210/300\n",
      "5/5 [==============================] - 0s 12ms/step - loss: 0.3824 - accuracy: 0.8429 - val_loss: 0.4465 - val_accuracy: 0.7500\n",
      "Epoch 211/300\n",
      "5/5 [==============================] - 0s 8ms/step - loss: 0.3903 - accuracy: 0.8286 - val_loss: 0.4045 - val_accuracy: 0.8500\n",
      "Epoch 212/300\n",
      "5/5 [==============================] - 0s 11ms/step - loss: 0.4548 - accuracy: 0.8286 - val_loss: 0.4287 - val_accuracy: 0.7833\n",
      "Epoch 213/300\n",
      "5/5 [==============================] - 0s 12ms/step - loss: 0.4358 - accuracy: 0.8214 - val_loss: 0.4348 - val_accuracy: 0.7833\n",
      "Epoch 214/300\n",
      "5/5 [==============================] - 0s 10ms/step - loss: 0.3533 - accuracy: 0.8357 - val_loss: 0.4199 - val_accuracy: 0.8333\n",
      "Epoch 215/300\n",
      "5/5 [==============================] - 0s 13ms/step - loss: 0.3649 - accuracy: 0.8357 - val_loss: 0.4388 - val_accuracy: 0.7500\n",
      "Epoch 216/300\n",
      "5/5 [==============================] - 0s 12ms/step - loss: 0.3495 - accuracy: 0.8714 - val_loss: 0.4039 - val_accuracy: 0.8333\n",
      "Epoch 217/300\n",
      "5/5 [==============================] - 0s 8ms/step - loss: 0.3667 - accuracy: 0.8571 - val_loss: 0.4510 - val_accuracy: 0.7500\n",
      "Epoch 218/300\n",
      "5/5 [==============================] - 0s 8ms/step - loss: 0.3743 - accuracy: 0.8500 - val_loss: 0.4263 - val_accuracy: 0.8333\n",
      "Epoch 219/300\n",
      "5/5 [==============================] - 0s 12ms/step - loss: 0.3592 - accuracy: 0.8500 - val_loss: 0.4132 - val_accuracy: 0.7833\n",
      "Epoch 220/300\n",
      "5/5 [==============================] - 0s 8ms/step - loss: 0.3543 - accuracy: 0.8429 - val_loss: 0.3983 - val_accuracy: 0.8167\n",
      "Epoch 221/300\n",
      "5/5 [==============================] - 0s 10ms/step - loss: 0.3388 - accuracy: 0.8500 - val_loss: 0.4023 - val_accuracy: 0.8167\n",
      "Epoch 222/300\n",
      "5/5 [==============================] - 0s 8ms/step - loss: 0.3393 - accuracy: 0.8571 - val_loss: 0.3839 - val_accuracy: 0.8333\n",
      "Epoch 223/300\n",
      "5/5 [==============================] - 0s 16ms/step - loss: 0.3284 - accuracy: 0.8429 - val_loss: 0.3845 - val_accuracy: 0.8500\n",
      "Epoch 224/300\n",
      "5/5 [==============================] - 0s 14ms/step - loss: 0.3539 - accuracy: 0.8429 - val_loss: 0.3737 - val_accuracy: 0.8500\n",
      "Epoch 225/300\n",
      "5/5 [==============================] - 0s 8ms/step - loss: 0.3555 - accuracy: 0.8500 - val_loss: 0.4068 - val_accuracy: 0.8000\n",
      "Epoch 226/300\n",
      "5/5 [==============================] - 0s 8ms/step - loss: 0.3398 - accuracy: 0.8429 - val_loss: 0.3746 - val_accuracy: 0.8333\n",
      "Epoch 227/300\n",
      "5/5 [==============================] - 0s 8ms/step - loss: 0.3178 - accuracy: 0.8429 - val_loss: 0.3690 - val_accuracy: 0.8333\n",
      "Epoch 228/300\n",
      "5/5 [==============================] - 0s 15ms/step - loss: 0.3246 - accuracy: 0.8643 - val_loss: 0.3822 - val_accuracy: 0.8167\n",
      "Epoch 229/300\n",
      "5/5 [==============================] - 0s 15ms/step - loss: 0.3326 - accuracy: 0.8429 - val_loss: 0.4028 - val_accuracy: 0.8333\n",
      "Epoch 230/300\n",
      "5/5 [==============================] - 0s 8ms/step - loss: 0.3323 - accuracy: 0.8571 - val_loss: 0.3698 - val_accuracy: 0.8667\n",
      "Epoch 231/300\n",
      "5/5 [==============================] - 0s 8ms/step - loss: 0.2917 - accuracy: 0.9000 - val_loss: 0.3760 - val_accuracy: 0.8167\n",
      "Epoch 232/300\n",
      "5/5 [==============================] - 0s 12ms/step - loss: 0.3024 - accuracy: 0.8643 - val_loss: 0.3585 - val_accuracy: 0.8667\n",
      "Epoch 233/300\n",
      "5/5 [==============================] - 0s 8ms/step - loss: 0.2986 - accuracy: 0.8643 - val_loss: 0.3784 - val_accuracy: 0.8167\n",
      "Epoch 234/300\n",
      "5/5 [==============================] - 0s 8ms/step - loss: 0.2913 - accuracy: 0.8786 - val_loss: 0.3701 - val_accuracy: 0.8333\n",
      "Epoch 235/300\n",
      "5/5 [==============================] - 0s 12ms/step - loss: 0.3076 - accuracy: 0.8786 - val_loss: 0.3686 - val_accuracy: 0.8000\n",
      "Epoch 236/300\n",
      "5/5 [==============================] - 0s 12ms/step - loss: 0.2802 - accuracy: 0.9000 - val_loss: 0.3592 - val_accuracy: 0.8667\n",
      "Epoch 237/300\n",
      "5/5 [==============================] - 0s 9ms/step - loss: 0.2879 - accuracy: 0.9071 - val_loss: 0.3672 - val_accuracy: 0.8333\n",
      "Epoch 238/300\n",
      "5/5 [==============================] - 0s 15ms/step - loss: 0.3124 - accuracy: 0.8643 - val_loss: 0.3606 - val_accuracy: 0.8500\n",
      "Epoch 239/300\n",
      "5/5 [==============================] - 0s 14ms/step - loss: 0.2927 - accuracy: 0.8857 - val_loss: 0.3734 - val_accuracy: 0.8167\n",
      "Epoch 240/300\n",
      "5/5 [==============================] - 0s 13ms/step - loss: 0.2881 - accuracy: 0.8643 - val_loss: 0.3514 - val_accuracy: 0.8500\n",
      "Epoch 241/300\n",
      "5/5 [==============================] - 0s 10ms/step - loss: 0.3057 - accuracy: 0.8929 - val_loss: 0.4296 - val_accuracy: 0.7667\n",
      "Epoch 242/300\n",
      "5/5 [==============================] - 0s 17ms/step - loss: 0.4473 - accuracy: 0.8071 - val_loss: 0.3451 - val_accuracy: 0.8500\n",
      "Epoch 243/300\n",
      "5/5 [==============================] - 0s 12ms/step - loss: 0.6657 - accuracy: 0.7786 - val_loss: 0.3941 - val_accuracy: 0.8167\n",
      "Epoch 244/300\n",
      "5/5 [==============================] - 0s 16ms/step - loss: 0.4851 - accuracy: 0.8000 - val_loss: 0.5179 - val_accuracy: 0.7667\n",
      "Epoch 245/300\n",
      "5/5 [==============================] - 0s 15ms/step - loss: 0.3632 - accuracy: 0.8571 - val_loss: 0.4213 - val_accuracy: 0.8500\n",
      "Epoch 246/300\n",
      "5/5 [==============================] - 0s 11ms/step - loss: 0.3120 - accuracy: 0.8571 - val_loss: 0.5164 - val_accuracy: 0.7500\n",
      "Epoch 247/300\n",
      "5/5 [==============================] - 0s 9ms/step - loss: 0.3837 - accuracy: 0.8286 - val_loss: 0.3672 - val_accuracy: 0.8500\n",
      "Epoch 248/300\n",
      "5/5 [==============================] - 0s 10ms/step - loss: 0.3409 - accuracy: 0.8571 - val_loss: 0.3671 - val_accuracy: 0.8167\n",
      "Epoch 249/300\n",
      "5/5 [==============================] - 0s 11ms/step - loss: 0.3776 - accuracy: 0.8357 - val_loss: 0.4487 - val_accuracy: 0.8167\n",
      "Epoch 250/300\n",
      "5/5 [==============================] - 0s 12ms/step - loss: 0.3238 - accuracy: 0.8714 - val_loss: 0.4218 - val_accuracy: 0.8333\n",
      "Epoch 251/300\n",
      "5/5 [==============================] - 0s 12ms/step - loss: 0.3036 - accuracy: 0.8714 - val_loss: 0.4655 - val_accuracy: 0.7667\n",
      "Epoch 252/300\n",
      "5/5 [==============================] - 0s 8ms/step - loss: 0.3204 - accuracy: 0.8643 - val_loss: 0.3655 - val_accuracy: 0.9167\n",
      "Epoch 253/300\n",
      "5/5 [==============================] - 0s 8ms/step - loss: 0.3120 - accuracy: 0.8571 - val_loss: 0.3704 - val_accuracy: 0.8167\n",
      "Epoch 254/300\n",
      "5/5 [==============================] - 0s 12ms/step - loss: 0.2817 - accuracy: 0.9143 - val_loss: 0.3757 - val_accuracy: 0.8333\n",
      "Epoch 255/300\n",
      "5/5 [==============================] - 0s 12ms/step - loss: 0.3060 - accuracy: 0.8714 - val_loss: 0.3494 - val_accuracy: 0.8500\n",
      "Epoch 256/300\n",
      "5/5 [==============================] - 0s 12ms/step - loss: 0.3309 - accuracy: 0.8571 - val_loss: 0.4376 - val_accuracy: 0.7833\n",
      "Epoch 257/300\n",
      "5/5 [==============================] - 0s 8ms/step - loss: 0.3165 - accuracy: 0.8929 - val_loss: 0.3687 - val_accuracy: 0.8667\n",
      "Epoch 258/300\n",
      "5/5 [==============================] - 0s 12ms/step - loss: 0.2751 - accuracy: 0.8857 - val_loss: 0.4096 - val_accuracy: 0.8000\n",
      "Epoch 259/300\n",
      "5/5 [==============================] - 0s 16ms/step - loss: 0.2705 - accuracy: 0.9071 - val_loss: 0.3674 - val_accuracy: 0.8667\n",
      "Epoch 260/300\n",
      "5/5 [==============================] - 0s 8ms/step - loss: 0.2850 - accuracy: 0.9000 - val_loss: 0.3994 - val_accuracy: 0.7500\n",
      "Epoch 261/300\n",
      "5/5 [==============================] - 0s 11ms/step - loss: 0.2755 - accuracy: 0.8786 - val_loss: 0.3630 - val_accuracy: 0.8833\n",
      "Epoch 262/300\n",
      "5/5 [==============================] - 0s 12ms/step - loss: 0.2675 - accuracy: 0.8857 - val_loss: 0.3619 - val_accuracy: 0.8667\n",
      "Epoch 263/300\n",
      "5/5 [==============================] - 0s 12ms/step - loss: 0.2726 - accuracy: 0.9357 - val_loss: 0.3546 - val_accuracy: 0.8500\n",
      "Epoch 264/300\n",
      "5/5 [==============================] - 0s 14ms/step - loss: 0.2620 - accuracy: 0.8857 - val_loss: 0.3537 - val_accuracy: 0.9000\n",
      "Epoch 265/300\n",
      "5/5 [==============================] - 0s 8ms/step - loss: 0.2588 - accuracy: 0.9286 - val_loss: 0.3541 - val_accuracy: 0.8333\n",
      "Epoch 266/300\n",
      "5/5 [==============================] - 0s 12ms/step - loss: 0.2541 - accuracy: 0.9214 - val_loss: 0.3311 - val_accuracy: 0.8500\n",
      "Epoch 267/300\n",
      "5/5 [==============================] - 0s 8ms/step - loss: 0.2506 - accuracy: 0.9071 - val_loss: 0.3610 - val_accuracy: 0.8333\n",
      "Epoch 268/300\n",
      "5/5 [==============================] - 0s 8ms/step - loss: 0.2625 - accuracy: 0.9143 - val_loss: 0.3403 - val_accuracy: 0.8667\n",
      "Epoch 269/300\n",
      "5/5 [==============================] - 0s 12ms/step - loss: 0.2617 - accuracy: 0.8857 - val_loss: 0.3507 - val_accuracy: 0.8667\n",
      "Epoch 270/300\n",
      "5/5 [==============================] - 0s 11ms/step - loss: 0.2520 - accuracy: 0.9357 - val_loss: 0.3310 - val_accuracy: 0.8500\n",
      "Epoch 271/300\n",
      "5/5 [==============================] - 0s 14ms/step - loss: 0.2746 - accuracy: 0.8714 - val_loss: 0.3520 - val_accuracy: 0.8500\n",
      "Epoch 272/300\n",
      "5/5 [==============================] - 0s 10ms/step - loss: 0.2393 - accuracy: 0.9286 - val_loss: 0.3601 - val_accuracy: 0.8000\n",
      "Epoch 273/300\n",
      "5/5 [==============================] - 0s 12ms/step - loss: 0.2691 - accuracy: 0.9000 - val_loss: 0.3206 - val_accuracy: 0.8833\n",
      "Epoch 274/300\n",
      "5/5 [==============================] - 0s 10ms/step - loss: 0.2700 - accuracy: 0.8929 - val_loss: 0.3280 - val_accuracy: 0.8500\n",
      "Epoch 275/300\n",
      "5/5 [==============================] - 0s 13ms/step - loss: 0.2440 - accuracy: 0.9286 - val_loss: 0.3213 - val_accuracy: 0.9000\n",
      "Epoch 276/300\n",
      "5/5 [==============================] - 0s 8ms/step - loss: 0.2290 - accuracy: 0.9286 - val_loss: 0.3055 - val_accuracy: 0.9000\n",
      "Epoch 277/300\n",
      "5/5 [==============================] - 0s 12ms/step - loss: 0.2293 - accuracy: 0.9000 - val_loss: 0.3447 - val_accuracy: 0.8500\n",
      "Epoch 278/300\n",
      "5/5 [==============================] - 0s 10ms/step - loss: 0.2262 - accuracy: 0.9000 - val_loss: 0.3192 - val_accuracy: 0.8667\n",
      "Epoch 279/300\n",
      "5/5 [==============================] - 0s 12ms/step - loss: 0.2342 - accuracy: 0.9214 - val_loss: 0.3249 - val_accuracy: 0.8333\n",
      "Epoch 280/300\n",
      "5/5 [==============================] - 0s 12ms/step - loss: 0.2200 - accuracy: 0.9357 - val_loss: 0.3175 - val_accuracy: 0.8833\n",
      "Epoch 281/300\n",
      "5/5 [==============================] - 0s 12ms/step - loss: 0.2295 - accuracy: 0.9286 - val_loss: 0.3043 - val_accuracy: 0.9000\n",
      "Epoch 282/300\n",
      "5/5 [==============================] - 0s 12ms/step - loss: 0.2471 - accuracy: 0.9357 - val_loss: 0.3276 - val_accuracy: 0.8667\n",
      "Epoch 283/300\n",
      "5/5 [==============================] - 0s 13ms/step - loss: 0.2515 - accuracy: 0.9071 - val_loss: 0.3032 - val_accuracy: 0.9000\n",
      "Epoch 284/300\n",
      "5/5 [==============================] - 0s 10ms/step - loss: 0.2261 - accuracy: 0.9214 - val_loss: 0.3272 - val_accuracy: 0.8333\n",
      "Epoch 285/300\n",
      "5/5 [==============================] - 0s 12ms/step - loss: 0.2451 - accuracy: 0.9214 - val_loss: 0.3025 - val_accuracy: 0.8833\n",
      "Epoch 286/300\n",
      "5/5 [==============================] - 0s 12ms/step - loss: 0.2293 - accuracy: 0.9214 - val_loss: 0.3262 - val_accuracy: 0.8833\n",
      "Epoch 287/300\n",
      "5/5 [==============================] - 0s 12ms/step - loss: 0.2129 - accuracy: 0.9429 - val_loss: 0.3365 - val_accuracy: 0.8667\n",
      "Epoch 288/300\n",
      "5/5 [==============================] - 0s 13ms/step - loss: 0.2110 - accuracy: 0.9571 - val_loss: 0.3035 - val_accuracy: 0.9000\n",
      "Epoch 289/300\n",
      "5/5 [==============================] - 0s 10ms/step - loss: 0.2266 - accuracy: 0.9071 - val_loss: 0.3129 - val_accuracy: 0.9000\n",
      "Epoch 290/300\n",
      "5/5 [==============================] - 0s 8ms/step - loss: 0.2019 - accuracy: 0.9571 - val_loss: 0.3120 - val_accuracy: 0.9000\n",
      "Epoch 291/300\n",
      "5/5 [==============================] - 0s 8ms/step - loss: 0.2113 - accuracy: 0.9286 - val_loss: 0.2978 - val_accuracy: 0.9167\n",
      "Epoch 292/300\n",
      "5/5 [==============================] - 0s 8ms/step - loss: 0.1974 - accuracy: 0.9500 - val_loss: 0.2958 - val_accuracy: 0.9167\n",
      "Epoch 293/300\n",
      "5/5 [==============================] - 0s 12ms/step - loss: 0.2035 - accuracy: 0.9571 - val_loss: 0.2967 - val_accuracy: 0.9167\n",
      "Epoch 294/300\n",
      "5/5 [==============================] - 0s 11ms/step - loss: 0.2255 - accuracy: 0.9143 - val_loss: 0.3167 - val_accuracy: 0.8500\n",
      "Epoch 295/300\n",
      "5/5 [==============================] - 0s 13ms/step - loss: 0.2577 - accuracy: 0.9071 - val_loss: 0.3076 - val_accuracy: 0.8833\n",
      "Epoch 296/300\n",
      "5/5 [==============================] - 0s 12ms/step - loss: 0.2506 - accuracy: 0.8857 - val_loss: 0.3353 - val_accuracy: 0.8500\n",
      "Epoch 297/300\n",
      "5/5 [==============================] - 0s 15ms/step - loss: 0.2050 - accuracy: 0.9500 - val_loss: 0.3144 - val_accuracy: 0.8333\n",
      "Epoch 298/300\n",
      "5/5 [==============================] - 0s 14ms/step - loss: 0.2149 - accuracy: 0.9000 - val_loss: 0.3462 - val_accuracy: 0.8167\n",
      "Epoch 299/300\n",
      "5/5 [==============================] - 0s 15ms/step - loss: 0.2193 - accuracy: 0.9429 - val_loss: 0.2917 - val_accuracy: 0.8667\n",
      "Epoch 300/300\n",
      "5/5 [==============================] - 0s 11ms/step - loss: 0.2086 - accuracy: 0.9143 - val_loss: 0.2858 - val_accuracy: 0.9000\n"
     ]
    },
    {
     "data": {
      "text/plain": "<keras.callbacks.History at 0x20821ced7d0>"
     },
     "execution_count": 293,
     "metadata": {},
     "output_type": "execute_result"
    }
   ],
   "source": [
    "Model.fit(X_train,y_train,batch_size=32,epochs=300,validation_data=(X_test,y_test))"
   ],
   "metadata": {
    "collapsed": false,
    "ExecuteTime": {
     "end_time": "2023-05-28T15:15:59.302695200Z",
     "start_time": "2023-05-28T15:15:41.437962400Z"
    }
   }
  },
  {
   "cell_type": "code",
   "execution_count": 294,
   "outputs": [
    {
     "name": "stdout",
     "output_type": "stream",
     "text": [
      "Model: \"sequential_5\"\n",
      "_________________________________________________________________\n",
      " Layer (type)                Output Shape              Param #   \n",
      "=================================================================\n",
      " dense_30 (Dense)            (None, 5)                 30        \n",
      "                                                                 \n",
      " dense_31 (Dense)            (None, 10)                60        \n",
      "                                                                 \n",
      " dense_32 (Dense)            (None, 32)                352       \n",
      "                                                                 \n",
      " dense_33 (Dense)            (None, 64)                2112      \n",
      "                                                                 \n",
      " dense_34 (Dense)            (None, 32)                2080      \n",
      "                                                                 \n",
      " dense_35 (Dense)            (None, 5)                 165       \n",
      "                                                                 \n",
      "=================================================================\n",
      "Total params: 4,799\n",
      "Trainable params: 4,799\n",
      "Non-trainable params: 0\n",
      "_________________________________________________________________\n"
     ]
    }
   ],
   "source": [
    "Model.summary()"
   ],
   "metadata": {
    "collapsed": false,
    "ExecuteTime": {
     "end_time": "2023-05-28T15:15:59.399553700Z",
     "start_time": "2023-05-28T15:15:59.280514700Z"
    }
   }
  },
  {
   "cell_type": "code",
   "execution_count": 295,
   "outputs": [
    {
     "name": "stdout",
     "output_type": "stream",
     "text": [
      "2/2 [==============================] - 0s 17ms/step - loss: 0.2858 - accuracy: 0.9000\n"
     ]
    },
    {
     "data": {
      "text/plain": "[0.285801500082016, 0.8999999761581421]"
     },
     "execution_count": 295,
     "metadata": {},
     "output_type": "execute_result"
    }
   ],
   "source": [
    "Model.evaluate(X_test,y_test)"
   ],
   "metadata": {
    "collapsed": false,
    "ExecuteTime": {
     "end_time": "2023-05-28T15:15:59.478727900Z",
     "start_time": "2023-05-28T15:15:59.311551Z"
    }
   }
  },
  {
   "cell_type": "code",
   "execution_count": 296,
   "outputs": [
    {
     "name": "stdout",
     "output_type": "stream",
     "text": [
      "1/1 [==============================] - 0s 113ms/step\n"
     ]
    }
   ],
   "source": [
    "RandomOutput=Model.predict([[21,1,0,0,24.83],[41,0,1,0,14.83],[26,0,0,0,31.83],[61,0,1,0,18.043]])"
   ],
   "metadata": {
    "collapsed": false,
    "ExecuteTime": {
     "end_time": "2023-05-28T15:15:59.600861500Z",
     "start_time": "2023-05-28T15:15:59.431281200Z"
    }
   }
  },
  {
   "cell_type": "code",
   "execution_count": 297,
   "outputs": [
    {
     "data": {
      "text/plain": "array([[1.0000000e+00, 1.1263286e-11, 6.8446624e-12, 2.5420801e-09,\n        2.6223114e-11],\n       [8.7070853e-01, 3.1991689e-03, 4.0628557e-04, 1.1264625e-01,\n        1.3039713e-02],\n       [1.0000000e+00, 5.4521473e-17, 2.0401039e-16, 6.7329280e-13,\n        2.9858130e-15],\n       [9.9669325e-01, 1.4936196e-05, 3.5493853e-05, 3.0735757e-03,\n        1.8275017e-04]], dtype=float32)"
     },
     "execution_count": 297,
     "metadata": {},
     "output_type": "execute_result"
    }
   ],
   "source": [
    "RandomOutput"
   ],
   "metadata": {
    "collapsed": false,
    "ExecuteTime": {
     "end_time": "2023-05-28T15:15:59.610869600Z",
     "start_time": "2023-05-28T15:15:59.600861500Z"
    }
   }
  },
  {
   "cell_type": "code",
   "execution_count": 298,
   "outputs": [],
   "source": [
    "FinalRandPred=[]\n",
    "for x in range(len(RandomOutput)):\n",
    "    A=max(RandomOutput[x,0],RandomOutput[x,1],RandomOutput[x,2],RandomOutput[x,3],RandomOutput[x,4])\n",
    "    for y in range(len(RandomOutput[0])):\n",
    "        if(RandomOutput[x,y]==A):\n",
    "            FinalRandPred.append(y)\n",
    "        else:\n",
    "            continue"
   ],
   "metadata": {
    "collapsed": false,
    "ExecuteTime": {
     "end_time": "2023-05-28T15:15:59.657007800Z",
     "start_time": "2023-05-28T15:15:59.616457100Z"
    }
   }
  },
  {
   "cell_type": "code",
   "execution_count": 299,
   "outputs": [
    {
     "name": "stdout",
     "output_type": "stream",
     "text": [
      "[0, 0, 0, 0]\n"
     ]
    }
   ],
   "source": [
    "print(FinalRandPred)"
   ],
   "metadata": {
    "collapsed": false,
    "ExecuteTime": {
     "end_time": "2023-05-28T15:15:59.657007800Z",
     "start_time": "2023-05-28T15:15:59.623817600Z"
    }
   }
  },
  {
   "cell_type": "code",
   "execution_count": 300,
   "outputs": [
    {
     "data": {
      "text/plain": "array(['DrugY', 'DrugY', 'DrugY', 'DrugY'], dtype=object)"
     },
     "execution_count": 300,
     "metadata": {},
     "output_type": "execute_result"
    }
   ],
   "source": [
    "DrugLab.inverse_transform(FinalRandPred)"
   ],
   "metadata": {
    "collapsed": false,
    "ExecuteTime": {
     "end_time": "2023-05-28T15:16:29.627695500Z",
     "start_time": "2023-05-28T15:16:29.595852900Z"
    }
   }
  },
  {
   "cell_type": "markdown",
   "source": [
    "This is Observed Due to Domination in Records of Drug Y Which is Transformed as 0 Using LabelEncoder\n",
    "-------------------------------------------------"
   ],
   "metadata": {
    "collapsed": false
   }
  }
 ],
 "metadata": {
  "kernelspec": {
   "display_name": "Python 3",
   "language": "python",
   "name": "python3"
  },
  "language_info": {
   "codemirror_mode": {
    "name": "ipython",
    "version": 2
   },
   "file_extension": ".py",
   "mimetype": "text/x-python",
   "name": "python",
   "nbconvert_exporter": "python",
   "pygments_lexer": "ipython2",
   "version": "2.7.6"
  }
 },
 "nbformat": 4,
 "nbformat_minor": 0
}

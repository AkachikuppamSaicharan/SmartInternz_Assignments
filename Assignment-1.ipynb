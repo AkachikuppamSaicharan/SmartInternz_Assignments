{
 "cells": [
  {
   "cell_type": "code",
   "execution_count": 25,
   "outputs": [],
   "source": [
    "import numpy as np\n",
    "import pandas as pd"
   ],
   "metadata": {
    "collapsed": false,
    "ExecuteTime": {
     "end_time": "2023-05-19T17:02:20.851056100Z",
     "start_time": "2023-05-19T17:02:20.755665300Z"
    }
   }
  },
  {
   "cell_type": "markdown",
   "source": [
    "Task I\n",
    "Create a pandas dataframe (DataFrame name as 'df') with numpy random values (4 features and 4 observation)"
   ],
   "metadata": {
    "collapsed": false
   }
  },
  {
   "cell_type": "code",
   "execution_count": 26,
   "outputs": [],
   "source": [
    "df=pd.DataFrame([pd.Series(np.random.rand(4)),pd.Series(np.random.rand(4)),pd.Series(np.random.rand(4)),pd.Series(np.random.rand(4))])"
   ],
   "metadata": {
    "collapsed": false,
    "ExecuteTime": {
     "end_time": "2023-05-19T17:02:21.024926500Z",
     "start_time": "2023-05-19T17:02:20.771654200Z"
    }
   }
  },
  {
   "cell_type": "code",
   "execution_count": 27,
   "outputs": [
    {
     "data": {
      "text/plain": "          0         1         2         3\n0  0.873363  0.511726  0.205148  0.033092\n1  0.356039  0.321808  0.697821  0.554498\n2  0.538937  0.850575  0.970851  0.024029\n3  0.932820  0.216345  0.527564  0.782272",
      "text/html": "<div>\n<style scoped>\n    .dataframe tbody tr th:only-of-type {\n        vertical-align: middle;\n    }\n\n    .dataframe tbody tr th {\n        vertical-align: top;\n    }\n\n    .dataframe thead th {\n        text-align: right;\n    }\n</style>\n<table border=\"1\" class=\"dataframe\">\n  <thead>\n    <tr style=\"text-align: right;\">\n      <th></th>\n      <th>0</th>\n      <th>1</th>\n      <th>2</th>\n      <th>3</th>\n    </tr>\n  </thead>\n  <tbody>\n    <tr>\n      <th>0</th>\n      <td>0.873363</td>\n      <td>0.511726</td>\n      <td>0.205148</td>\n      <td>0.033092</td>\n    </tr>\n    <tr>\n      <th>1</th>\n      <td>0.356039</td>\n      <td>0.321808</td>\n      <td>0.697821</td>\n      <td>0.554498</td>\n    </tr>\n    <tr>\n      <th>2</th>\n      <td>0.538937</td>\n      <td>0.850575</td>\n      <td>0.970851</td>\n      <td>0.024029</td>\n    </tr>\n    <tr>\n      <th>3</th>\n      <td>0.932820</td>\n      <td>0.216345</td>\n      <td>0.527564</td>\n      <td>0.782272</td>\n    </tr>\n  </tbody>\n</table>\n</div>"
     },
     "execution_count": 27,
     "metadata": {},
     "output_type": "execute_result"
    }
   ],
   "source": [
    "df"
   ],
   "metadata": {
    "collapsed": false,
    "ExecuteTime": {
     "end_time": "2023-05-19T17:02:21.024926500Z",
     "start_time": "2023-05-19T17:02:20.787536300Z"
    }
   }
  },
  {
   "cell_type": "markdown",
   "source": [
    "Task-2\n",
    "Rename the task - 1 'df' dataframe column names to 'Random value 1', 'Random value 2', 'Random value 3' & 'Random value 4"
   ],
   "metadata": {
    "collapsed": false
   }
  },
  {
   "cell_type": "code",
   "execution_count": 28,
   "outputs": [],
   "source": [
    "df.columns=['Random Value 1','Random Value 2','Random Value 3','Random Value 4']"
   ],
   "metadata": {
    "collapsed": false,
    "ExecuteTime": {
     "end_time": "2023-05-19T17:02:21.024926500Z",
     "start_time": "2023-05-19T17:02:20.822449700Z"
    }
   }
  },
  {
   "cell_type": "code",
   "execution_count": 29,
   "outputs": [
    {
     "data": {
      "text/plain": "   Random Value 1  Random Value 2  Random Value 3  Random Value 4\n0        0.873363        0.511726        0.205148        0.033092\n1        0.356039        0.321808        0.697821        0.554498\n2        0.538937        0.850575        0.970851        0.024029\n3        0.932820        0.216345        0.527564        0.782272",
      "text/html": "<div>\n<style scoped>\n    .dataframe tbody tr th:only-of-type {\n        vertical-align: middle;\n    }\n\n    .dataframe tbody tr th {\n        vertical-align: top;\n    }\n\n    .dataframe thead th {\n        text-align: right;\n    }\n</style>\n<table border=\"1\" class=\"dataframe\">\n  <thead>\n    <tr style=\"text-align: right;\">\n      <th></th>\n      <th>Random Value 1</th>\n      <th>Random Value 2</th>\n      <th>Random Value 3</th>\n      <th>Random Value 4</th>\n    </tr>\n  </thead>\n  <tbody>\n    <tr>\n      <th>0</th>\n      <td>0.873363</td>\n      <td>0.511726</td>\n      <td>0.205148</td>\n      <td>0.033092</td>\n    </tr>\n    <tr>\n      <th>1</th>\n      <td>0.356039</td>\n      <td>0.321808</td>\n      <td>0.697821</td>\n      <td>0.554498</td>\n    </tr>\n    <tr>\n      <th>2</th>\n      <td>0.538937</td>\n      <td>0.850575</td>\n      <td>0.970851</td>\n      <td>0.024029</td>\n    </tr>\n    <tr>\n      <th>3</th>\n      <td>0.932820</td>\n      <td>0.216345</td>\n      <td>0.527564</td>\n      <td>0.782272</td>\n    </tr>\n  </tbody>\n</table>\n</div>"
     },
     "execution_count": 29,
     "metadata": {},
     "output_type": "execute_result"
    }
   ],
   "source": [
    "df"
   ],
   "metadata": {
    "collapsed": false,
    "ExecuteTime": {
     "end_time": "2023-05-19T17:02:21.024926500Z",
     "start_time": "2023-05-19T17:02:20.822449700Z"
    }
   }
  },
  {
   "cell_type": "markdown",
   "source": [
    "Task 3\n",
    "Find the descriptive statistics of the 'df' dataframe"
   ],
   "metadata": {
    "collapsed": false
   }
  },
  {
   "cell_type": "code",
   "execution_count": 30,
   "outputs": [
    {
     "data": {
      "text/plain": "       Random Value 1  Random Value 2  Random Value 3  Random Value 4\ncount        4.000000        4.000000        4.000000        4.000000\nmean         0.675290        0.475113        0.600346        0.348473\nstd          0.274510        0.278553        0.320549        0.380945\nmin          0.356039        0.216345        0.205148        0.024029\n25%          0.493213        0.295442        0.446960        0.030826\n50%          0.706150        0.416767        0.612692        0.293795\n75%          0.888228        0.596438        0.766079        0.611441\nmax          0.932820        0.850575        0.970851        0.782272",
      "text/html": "<div>\n<style scoped>\n    .dataframe tbody tr th:only-of-type {\n        vertical-align: middle;\n    }\n\n    .dataframe tbody tr th {\n        vertical-align: top;\n    }\n\n    .dataframe thead th {\n        text-align: right;\n    }\n</style>\n<table border=\"1\" class=\"dataframe\">\n  <thead>\n    <tr style=\"text-align: right;\">\n      <th></th>\n      <th>Random Value 1</th>\n      <th>Random Value 2</th>\n      <th>Random Value 3</th>\n      <th>Random Value 4</th>\n    </tr>\n  </thead>\n  <tbody>\n    <tr>\n      <th>count</th>\n      <td>4.000000</td>\n      <td>4.000000</td>\n      <td>4.000000</td>\n      <td>4.000000</td>\n    </tr>\n    <tr>\n      <th>mean</th>\n      <td>0.675290</td>\n      <td>0.475113</td>\n      <td>0.600346</td>\n      <td>0.348473</td>\n    </tr>\n    <tr>\n      <th>std</th>\n      <td>0.274510</td>\n      <td>0.278553</td>\n      <td>0.320549</td>\n      <td>0.380945</td>\n    </tr>\n    <tr>\n      <th>min</th>\n      <td>0.356039</td>\n      <td>0.216345</td>\n      <td>0.205148</td>\n      <td>0.024029</td>\n    </tr>\n    <tr>\n      <th>25%</th>\n      <td>0.493213</td>\n      <td>0.295442</td>\n      <td>0.446960</td>\n      <td>0.030826</td>\n    </tr>\n    <tr>\n      <th>50%</th>\n      <td>0.706150</td>\n      <td>0.416767</td>\n      <td>0.612692</td>\n      <td>0.293795</td>\n    </tr>\n    <tr>\n      <th>75%</th>\n      <td>0.888228</td>\n      <td>0.596438</td>\n      <td>0.766079</td>\n      <td>0.611441</td>\n    </tr>\n    <tr>\n      <th>max</th>\n      <td>0.932820</td>\n      <td>0.850575</td>\n      <td>0.970851</td>\n      <td>0.782272</td>\n    </tr>\n  </tbody>\n</table>\n</div>"
     },
     "execution_count": 30,
     "metadata": {},
     "output_type": "execute_result"
    }
   ],
   "source": [
    "df.describe()"
   ],
   "metadata": {
    "collapsed": false,
    "ExecuteTime": {
     "end_time": "2023-05-19T17:02:21.044099700Z",
     "start_time": "2023-05-19T17:02:20.851056100Z"
    }
   }
  },
  {
   "cell_type": "code",
   "execution_count": 31,
   "outputs": [
    {
     "data": {
      "text/plain": "       Random Value 1  Random Value 2  Random Value 3  Random Value 4\ncount        4.000000        4.000000        4.000000        4.000000\nmean         0.675290        0.475113        0.600346        0.348473\nstd          0.274510        0.278553        0.320549        0.380945\nmin          0.356039        0.216345        0.205148        0.024029\n25%          0.493213        0.295442        0.446960        0.030826\n50%          0.706150        0.416767        0.612692        0.293795\n75%          0.888228        0.596438        0.766079        0.611441\nmax          0.932820        0.850575        0.970851        0.782272",
      "text/html": "<div>\n<style scoped>\n    .dataframe tbody tr th:only-of-type {\n        vertical-align: middle;\n    }\n\n    .dataframe tbody tr th {\n        vertical-align: top;\n    }\n\n    .dataframe thead th {\n        text-align: right;\n    }\n</style>\n<table border=\"1\" class=\"dataframe\">\n  <thead>\n    <tr style=\"text-align: right;\">\n      <th></th>\n      <th>Random Value 1</th>\n      <th>Random Value 2</th>\n      <th>Random Value 3</th>\n      <th>Random Value 4</th>\n    </tr>\n  </thead>\n  <tbody>\n    <tr>\n      <th>count</th>\n      <td>4.000000</td>\n      <td>4.000000</td>\n      <td>4.000000</td>\n      <td>4.000000</td>\n    </tr>\n    <tr>\n      <th>mean</th>\n      <td>0.675290</td>\n      <td>0.475113</td>\n      <td>0.600346</td>\n      <td>0.348473</td>\n    </tr>\n    <tr>\n      <th>std</th>\n      <td>0.274510</td>\n      <td>0.278553</td>\n      <td>0.320549</td>\n      <td>0.380945</td>\n    </tr>\n    <tr>\n      <th>min</th>\n      <td>0.356039</td>\n      <td>0.216345</td>\n      <td>0.205148</td>\n      <td>0.024029</td>\n    </tr>\n    <tr>\n      <th>25%</th>\n      <td>0.493213</td>\n      <td>0.295442</td>\n      <td>0.446960</td>\n      <td>0.030826</td>\n    </tr>\n    <tr>\n      <th>50%</th>\n      <td>0.706150</td>\n      <td>0.416767</td>\n      <td>0.612692</td>\n      <td>0.293795</td>\n    </tr>\n    <tr>\n      <th>75%</th>\n      <td>0.888228</td>\n      <td>0.596438</td>\n      <td>0.766079</td>\n      <td>0.611441</td>\n    </tr>\n    <tr>\n      <th>max</th>\n      <td>0.932820</td>\n      <td>0.850575</td>\n      <td>0.970851</td>\n      <td>0.782272</td>\n    </tr>\n  </tbody>\n</table>\n</div>"
     },
     "execution_count": 31,
     "metadata": {},
     "output_type": "execute_result"
    }
   ],
   "source": [
    "df.describe(include='all')"
   ],
   "metadata": {
    "collapsed": false,
    "ExecuteTime": {
     "end_time": "2023-05-19T17:02:21.044099700Z",
     "start_time": "2023-05-19T17:02:20.883395400Z"
    }
   }
  },
  {
   "cell_type": "markdown",
   "source": [
    "Task 4\n",
    "Check for the null values in 'df' and find the data type of the columns.\n"
   ],
   "metadata": {
    "collapsed": false
   }
  },
  {
   "cell_type": "code",
   "execution_count": 32,
   "outputs": [
    {
     "data": {
      "text/plain": "   Random Value 1  Random Value 2  Random Value 3  Random Value 4\n0           False           False           False           False\n1           False           False           False           False\n2           False           False           False           False\n3           False           False           False           False",
      "text/html": "<div>\n<style scoped>\n    .dataframe tbody tr th:only-of-type {\n        vertical-align: middle;\n    }\n\n    .dataframe tbody tr th {\n        vertical-align: top;\n    }\n\n    .dataframe thead th {\n        text-align: right;\n    }\n</style>\n<table border=\"1\" class=\"dataframe\">\n  <thead>\n    <tr style=\"text-align: right;\">\n      <th></th>\n      <th>Random Value 1</th>\n      <th>Random Value 2</th>\n      <th>Random Value 3</th>\n      <th>Random Value 4</th>\n    </tr>\n  </thead>\n  <tbody>\n    <tr>\n      <th>0</th>\n      <td>False</td>\n      <td>False</td>\n      <td>False</td>\n      <td>False</td>\n    </tr>\n    <tr>\n      <th>1</th>\n      <td>False</td>\n      <td>False</td>\n      <td>False</td>\n      <td>False</td>\n    </tr>\n    <tr>\n      <th>2</th>\n      <td>False</td>\n      <td>False</td>\n      <td>False</td>\n      <td>False</td>\n    </tr>\n    <tr>\n      <th>3</th>\n      <td>False</td>\n      <td>False</td>\n      <td>False</td>\n      <td>False</td>\n    </tr>\n  </tbody>\n</table>\n</div>"
     },
     "execution_count": 32,
     "metadata": {},
     "output_type": "execute_result"
    }
   ],
   "source": [
    "df.isnull()"
   ],
   "metadata": {
    "collapsed": false,
    "ExecuteTime": {
     "end_time": "2023-05-19T17:02:21.044099700Z",
     "start_time": "2023-05-19T17:02:20.929940500Z"
    }
   }
  },
  {
   "cell_type": "code",
   "execution_count": 33,
   "outputs": [
    {
     "data": {
      "text/plain": "Random Value 1    0\nRandom Value 2    0\nRandom Value 3    0\nRandom Value 4    0\ndtype: int64"
     },
     "execution_count": 33,
     "metadata": {},
     "output_type": "execute_result"
    }
   ],
   "source": [
    "df.isnull().sum()"
   ],
   "metadata": {
    "collapsed": false,
    "ExecuteTime": {
     "end_time": "2023-05-19T17:02:21.044099700Z",
     "start_time": "2023-05-19T17:02:20.935803Z"
    }
   }
  },
  {
   "cell_type": "code",
   "execution_count": 34,
   "outputs": [
    {
     "data": {
      "text/plain": "Random Value 1    False\nRandom Value 2    False\nRandom Value 3    False\nRandom Value 4    False\ndtype: bool"
     },
     "execution_count": 34,
     "metadata": {},
     "output_type": "execute_result"
    }
   ],
   "source": [
    "df.isnull().all()"
   ],
   "metadata": {
    "collapsed": false,
    "ExecuteTime": {
     "end_time": "2023-05-19T17:02:21.044099700Z",
     "start_time": "2023-05-19T17:02:20.948277300Z"
    }
   }
  },
  {
   "cell_type": "code",
   "execution_count": 35,
   "outputs": [
    {
     "name": "stdout",
     "output_type": "stream",
     "text": [
      "<class 'pandas.core.frame.DataFrame'>\n",
      "RangeIndex: 4 entries, 0 to 3\n",
      "Data columns (total 4 columns):\n",
      " #   Column          Non-Null Count  Dtype  \n",
      "---  ------          --------------  -----  \n",
      " 0   Random Value 1  4 non-null      float64\n",
      " 1   Random Value 2  4 non-null      float64\n",
      " 2   Random Value 3  4 non-null      float64\n",
      " 3   Random Value 4  4 non-null      float64\n",
      "dtypes: float64(4)\n",
      "memory usage: 260.0 bytes\n"
     ]
    }
   ],
   "source": [
    "df.info()"
   ],
   "metadata": {
    "collapsed": false,
    "ExecuteTime": {
     "end_time": "2023-05-19T17:02:21.044099700Z",
     "start_time": "2023-05-19T17:02:20.963494200Z"
    }
   }
  },
  {
   "cell_type": "markdown",
   "source": [
    "Task 5\n",
    "Display the 'Random value 2' & 'Random value 3' columns with location method and index location method"
   ],
   "metadata": {
    "collapsed": false
   }
  },
  {
   "cell_type": "code",
   "execution_count": 36,
   "outputs": [
    {
     "name": "stdout",
     "output_type": "stream",
     "text": [
      "Using Location(loc) Method\n"
     ]
    },
    {
     "data": {
      "text/plain": "   Random Value 2  Random Value 3\n0        0.511726        0.205148\n1        0.321808        0.697821\n2        0.850575        0.970851\n3        0.216345        0.527564",
      "text/html": "<div>\n<style scoped>\n    .dataframe tbody tr th:only-of-type {\n        vertical-align: middle;\n    }\n\n    .dataframe tbody tr th {\n        vertical-align: top;\n    }\n\n    .dataframe thead th {\n        text-align: right;\n    }\n</style>\n<table border=\"1\" class=\"dataframe\">\n  <thead>\n    <tr style=\"text-align: right;\">\n      <th></th>\n      <th>Random Value 2</th>\n      <th>Random Value 3</th>\n    </tr>\n  </thead>\n  <tbody>\n    <tr>\n      <th>0</th>\n      <td>0.511726</td>\n      <td>0.205148</td>\n    </tr>\n    <tr>\n      <th>1</th>\n      <td>0.321808</td>\n      <td>0.697821</td>\n    </tr>\n    <tr>\n      <th>2</th>\n      <td>0.850575</td>\n      <td>0.970851</td>\n    </tr>\n    <tr>\n      <th>3</th>\n      <td>0.216345</td>\n      <td>0.527564</td>\n    </tr>\n  </tbody>\n</table>\n</div>"
     },
     "execution_count": 36,
     "metadata": {},
     "output_type": "execute_result"
    }
   ],
   "source": [
    "print(\"Using Location(loc) Method\")\n",
    "df.loc[:,'Random Value 2':'Random Value 3']"
   ],
   "metadata": {
    "collapsed": false,
    "ExecuteTime": {
     "end_time": "2023-05-19T17:02:21.044099700Z",
     "start_time": "2023-05-19T17:02:20.981815200Z"
    }
   }
  },
  {
   "cell_type": "code",
   "execution_count": 37,
   "outputs": [
    {
     "name": "stdout",
     "output_type": "stream",
     "text": [
      "Usign Indexed Location(iloc) Method\n"
     ]
    },
    {
     "data": {
      "text/plain": "   Random Value 2  Random Value 3\n0        0.511726        0.205148\n1        0.321808        0.697821\n2        0.850575        0.970851\n3        0.216345        0.527564",
      "text/html": "<div>\n<style scoped>\n    .dataframe tbody tr th:only-of-type {\n        vertical-align: middle;\n    }\n\n    .dataframe tbody tr th {\n        vertical-align: top;\n    }\n\n    .dataframe thead th {\n        text-align: right;\n    }\n</style>\n<table border=\"1\" class=\"dataframe\">\n  <thead>\n    <tr style=\"text-align: right;\">\n      <th></th>\n      <th>Random Value 2</th>\n      <th>Random Value 3</th>\n    </tr>\n  </thead>\n  <tbody>\n    <tr>\n      <th>0</th>\n      <td>0.511726</td>\n      <td>0.205148</td>\n    </tr>\n    <tr>\n      <th>1</th>\n      <td>0.321808</td>\n      <td>0.697821</td>\n    </tr>\n    <tr>\n      <th>2</th>\n      <td>0.850575</td>\n      <td>0.970851</td>\n    </tr>\n    <tr>\n      <th>3</th>\n      <td>0.216345</td>\n      <td>0.527564</td>\n    </tr>\n  </tbody>\n</table>\n</div>"
     },
     "execution_count": 37,
     "metadata": {},
     "output_type": "execute_result"
    }
   ],
   "source": [
    "print(\"Usign Indexed Location(iloc) Method\")\n",
    "df.iloc[:,1:3]"
   ],
   "metadata": {
    "collapsed": false,
    "ExecuteTime": {
     "end_time": "2023-05-19T17:02:21.044099700Z",
     "start_time": "2023-05-19T17:02:21.000923100Z"
    }
   }
  }
 ],
 "metadata": {
  "kernelspec": {
   "display_name": "Python 3",
   "language": "python",
   "name": "python3"
  },
  "language_info": {
   "codemirror_mode": {
    "name": "ipython",
    "version": 2
   },
   "file_extension": ".py",
   "mimetype": "text/x-python",
   "name": "python",
   "nbconvert_exporter": "python",
   "pygments_lexer": "ipython2",
   "version": "2.7.6"
  }
 },
 "nbformat": 4,
 "nbformat_minor": 0
}
